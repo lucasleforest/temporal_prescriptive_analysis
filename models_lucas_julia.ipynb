{
 "cells": [
  {
   "cell_type": "markdown",
   "metadata": {},
   "source": [
    "# Temporal Pres"
   ]
  },
  {
   "cell_type": "code",
   "execution_count": 1,
   "metadata": {},
   "outputs": [],
   "source": [
    "using CSV, DataFrames, Statistics, Random, ParallelKMeans, Gurobi, JuMP"
   ]
  },
  {
   "cell_type": "code",
   "execution_count": 3,
   "metadata": {},
   "outputs": [],
   "source": [
    "df = CSV.read(\"data/pred_temporal.csv\", DataFrame)\n",
    "df;"
   ]
  },
  {
   "cell_type": "code",
   "execution_count": 4,
   "metadata": {},
   "outputs": [],
   "source": [
    "df_no_missing = dropmissing(df);"
   ]
  },
  {
   "cell_type": "code",
   "execution_count": 160,
   "metadata": {},
   "outputs": [
    {
     "data": {
      "text/html": [
       "<div><div style = \"float: left;\"><span>7124×10 DataFrame</span></div><div style = \"float: right;\"><span style = \"font-style: italic;\">7099 rows omitted</span></div><div style = \"clear: both;\"></div></div><div class = \"data-frame\" style = \"overflow-x: scroll;\"><table class = \"data-frame\" style = \"margin-bottom: 6px;\"><thead><tr class = \"header\"><th class = \"rowNumber\" style = \"font-weight: bold; text-align: right;\">Row</th><th style = \"text-align: left;\">Column1</th><th style = \"text-align: left;\">State</th><th style = \"text-align: left;\">Date</th><th style = \"text-align: left;\">population</th><th style = \"text-align: left;\">confirmed</th><th style = \"text-align: left;\">deaths</th><th style = \"text-align: left;\">incident_rate</th><th style = \"text-align: left;\">mortality_rate</th><th style = \"text-align: left;\">testing_rate</th><th style = \"text-align: left;\">TestsReported</th></tr><tr class = \"subheader headerLastRow\"><th class = \"rowNumber\" style = \"font-weight: bold; text-align: right;\"></th><th title = \"Int64\" style = \"text-align: left;\">Int64</th><th title = \"String31\" style = \"text-align: left;\">String31</th><th title = \"Dates.Date\" style = \"text-align: left;\">Date</th><th title = \"Float64\" style = \"text-align: left;\">Float64</th><th title = \"Float64\" style = \"text-align: left;\">Float64</th><th title = \"Float64\" style = \"text-align: left;\">Float64</th><th title = \"Float64\" style = \"text-align: left;\">Float64</th><th title = \"Float64\" style = \"text-align: left;\">Float64</th><th title = \"Float64\" style = \"text-align: left;\">Float64</th><th title = \"Int64\" style = \"text-align: left;\">Int64</th></tr></thead><tbody><tr><td class = \"rowNumber\" style = \"font-weight: bold; text-align: right;\">1</td><td style = \"text-align: right;\">52</td><td style = \"text-align: left;\">Alabama</td><td style = \"text-align: left;\">2020-04-13</td><td style = \"text-align: right;\">0.111072</td><td style = \"text-align: right;\">0.00500903</td><td style = \"text-align: right;\">0.00300674</td><td style = \"text-align: right;\">0.0158113</td><td style = \"text-align: right;\">0.272074</td><td style = \"text-align: right;\">0.0118867</td><td style = \"text-align: right;\">2626</td></tr><tr><td class = \"rowNumber\" style = \"font-weight: bold; text-align: right;\">2</td><td style = \"text-align: right;\">53</td><td style = \"text-align: left;\">Alaska</td><td style = \"text-align: left;\">2020-04-13</td><td style = \"text-align: right;\">0.00392428</td><td style = \"text-align: right;\">1.01222e-5</td><td style = \"text-align: right;\">0.000242969</td><td style = \"text-align: right;\">0.00508025</td><td style = \"text-align: right;\">0.296715</td><td style = \"text-align: right;\">0.0266052</td><td style = \"text-align: right;\">399</td></tr><tr><td class = \"rowNumber\" style = \"font-weight: bold; text-align: right;\">3</td><td style = \"text-align: right;\">54</td><td style = \"text-align: left;\">Arizona</td><td style = \"text-align: left;\">2020-04-13</td><td style = \"text-align: right;\">0.172087</td><td style = \"text-align: right;\">0.0049671</td><td style = \"text-align: right;\">0.00370528</td><td style = \"text-align: right;\">0.00655017</td><td style = \"text-align: right;\">0.337782</td><td style = \"text-align: right;\">0.0113124</td><td style = \"text-align: right;\">947</td></tr><tr><td class = \"rowNumber\" style = \"font-weight: bold; text-align: right;\">4</td><td style = \"text-align: right;\">55</td><td style = \"text-align: left;\">Arkansas</td><td style = \"text-align: left;\">2020-04-13</td><td style = \"text-align: right;\">0.0626465</td><td style = \"text-align: right;\">0.00164847</td><td style = \"text-align: right;\">0.000880763</td><td style = \"text-align: right;\">0.00769774</td><td style = \"text-align: right;\">0.211499</td><td style = \"text-align: right;\">0.0157655</td><td style = \"text-align: right;\">293</td></tr><tr><td class = \"rowNumber\" style = \"font-weight: bold; text-align: right;\">5</td><td style = \"text-align: right;\">56</td><td style = \"text-align: left;\">California</td><td style = \"text-align: left;\">2020-04-13</td><td style = \"text-align: right;\">1.0</td><td style = \"text-align: right;\">0.0342144</td><td style = \"text-align: right;\">0.021685</td><td style = \"text-align: right;\">0.00981881</td><td style = \"text-align: right;\">0.306982</td><td style = \"text-align: right;\">0.00898563</td><td style = \"text-align: right;\">9150</td></tr><tr><td class = \"rowNumber\" style = \"font-weight: bold; text-align: right;\">6</td><td style = \"text-align: right;\">57</td><td style = \"text-align: left;\">Colorado</td><td style = \"text-align: left;\">2020-04-13</td><td style = \"text-align: right;\">0.133047</td><td style = \"text-align: right;\">0.010731</td><td style = \"text-align: right;\">0.00929357</td><td style = \"text-align: right;\">0.033892</td><td style = \"text-align: right;\">0.408624</td><td style = \"text-align: right;\">0.0127428</td><td style = \"text-align: right;\">50</td></tr><tr><td class = \"rowNumber\" style = \"font-weight: bold; text-align: right;\">7</td><td style = \"text-align: right;\">58</td><td style = \"text-align: left;\">Connecticut</td><td style = \"text-align: left;\">2020-04-13</td><td style = \"text-align: right;\">0.0767085</td><td style = \"text-align: right;\">0.0189588</td><td style = \"text-align: right;\">0.0182834</td><td style = \"text-align: right;\">0.111124</td><td style = \"text-align: right;\">0.462012</td><td style = \"text-align: right;\">0.0251683</td><td style = \"text-align: right;\">1680</td></tr><tr><td class = \"rowNumber\" style = \"font-weight: bold; text-align: right;\">8</td><td style = \"text-align: right;\">59</td><td style = \"text-align: left;\">Delaware</td><td style = \"text-align: left;\">2020-04-13</td><td style = \"text-align: right;\">0.0101456</td><td style = \"text-align: right;\">0.00215169</td><td style = \"text-align: right;\">0.00124522</td><td style = \"text-align: right;\">0.0483397</td><td style = \"text-align: right;\">0.23922</td><td style = \"text-align: right;\">0.0245488</td><td style = \"text-align: right;\">767</td></tr><tr><td class = \"rowNumber\" style = \"font-weight: bold; text-align: right;\">9</td><td style = \"text-align: right;\">60</td><td style = \"text-align: left;\">District of Columbia</td><td style = \"text-align: left;\">2020-04-13</td><td style = \"text-align: right;\">0.00326172</td><td style = \"text-align: right;\">0.00243655</td><td style = \"text-align: right;\">0.0015793</td><td style = \"text-align: right;\">0.0794369</td><td style = \"text-align: right;\">0.273101</td><td style = \"text-align: right;\">0.0317294</td><td style = \"text-align: right;\">391</td></tr><tr><td class = \"rowNumber\" style = \"font-weight: bold; text-align: right;\">10</td><td style = \"text-align: right;\">61</td><td style = \"text-align: left;\">Florida</td><td style = \"text-align: left;\">2020-04-13</td><td style = \"text-align: right;\">0.536787</td><td style = \"text-align: right;\">0.0300036</td><td style = \"text-align: right;\">0.0151552</td><td style = \"text-align: right;\">0.176909</td><td style = \"text-align: right;\">0.0420945</td><td style = \"text-align: right;\">0.0183457</td><td style = \"text-align: right;\">14472</td></tr><tr><td class = \"rowNumber\" style = \"font-weight: bold; text-align: right;\">11</td><td style = \"text-align: right;\">62</td><td style = \"text-align: left;\">Georgia</td><td style = \"text-align: left;\">2020-04-13</td><td style = \"text-align: right;\">0.257842</td><td style = \"text-align: right;\">0.0188634</td><td style = \"text-align: right;\">0.0141226</td><td style = \"text-align: right;\">0.0324736</td><td style = \"text-align: right;\">0.358316</td><td style = \"text-align: right;\">0.0106025</td><td style = \"text-align: right;\">4603</td></tr><tr><td class = \"rowNumber\" style = \"font-weight: bold; text-align: right;\">12</td><td style = \"text-align: right;\">63</td><td style = \"text-align: left;\">Hawaii</td><td style = \"text-align: left;\">2020-04-13</td><td style = \"text-align: right;\">0.0215011</td><td style = \"text-align: right;\">0.00033837</td><td style = \"text-align: right;\">0.00027334</td><td style = \"text-align: right;\">0.0016182</td><td style = \"text-align: right;\">0.183778</td><td style = \"text-align: right;\">0.0270564</td><td style = \"text-align: right;\">429</td></tr><tr><td class = \"rowNumber\" style = \"font-weight: bold; text-align: right;\">13</td><td style = \"text-align: right;\">64</td><td style = \"text-align: left;\">Idaho</td><td style = \"text-align: left;\">2020-04-13</td><td style = \"text-align: right;\">0.0310352</td><td style = \"text-align: right;\">0.0016716</td><td style = \"text-align: right;\">0.000820021</td><td style = \"text-align: right;\">0.0186835</td><td style = \"text-align: right;\">0.194045</td><td style = \"text-align: right;\">0.018344</td><td style = \"text-align: right;\">838</td></tr><tr><td style = \"text-align: right;\">&vellip;</td><td style = \"text-align: right;\">&vellip;</td><td style = \"text-align: right;\">&vellip;</td><td style = \"text-align: right;\">&vellip;</td><td style = \"text-align: right;\">&vellip;</td><td style = \"text-align: right;\">&vellip;</td><td style = \"text-align: right;\">&vellip;</td><td style = \"text-align: right;\">&vellip;</td><td style = \"text-align: right;\">&vellip;</td><td style = \"text-align: right;\">&vellip;</td><td style = \"text-align: right;\">&vellip;</td></tr><tr><td class = \"rowNumber\" style = \"font-weight: bold; text-align: right;\">7113</td><td style = \"text-align: right;\">7164</td><td style = \"text-align: left;\">Rhode Island</td><td style = \"text-align: left;\">2020-08-27</td><td style = \"text-align: right;\">0.0123442</td><td style = \"text-align: right;\">0.0308278</td><td style = \"text-align: right;\">0.0317075</td><td style = \"text-align: right;\">0.647071</td><td style = \"text-align: right;\">0.49692</td><td style = \"text-align: right;\">1.0</td><td style = \"text-align: right;\">5115</td></tr><tr><td class = \"rowNumber\" style = \"font-weight: bold; text-align: right;\">7114</td><td style = \"text-align: right;\">7165</td><td style = \"text-align: left;\">South Carolina</td><td style = \"text-align: left;\">2020-08-27</td><td style = \"text-align: right;\">0.117379</td><td style = \"text-align: right;\">0.165321</td><td style = \"text-align: right;\">0.0798153</td><td style = \"text-align: right;\">0.707618</td><td style = \"text-align: right;\">0.235113</td><td style = \"text-align: right;\">0.380254</td><td style = \"text-align: right;\">9823</td></tr><tr><td class = \"rowNumber\" style = \"font-weight: bold; text-align: right;\">7115</td><td style = \"text-align: right;\">7166</td><td style = \"text-align: left;\">South Dakota</td><td style = \"text-align: left;\">2020-08-27</td><td style = \"text-align: right;\">0.00785699</td><td style = \"text-align: right;\">0.0172424</td><td style = \"text-align: right;\">0.00492012</td><td style = \"text-align: right;\">0.434464</td><td style = \"text-align: right;\">0.13655</td><td style = \"text-align: right;\">0.340442</td><td style = \"text-align: right;\">1421</td></tr><tr><td class = \"rowNumber\" style = \"font-weight: bold; text-align: right;\">7116</td><td style = \"text-align: right;\">7167</td><td style = \"text-align: left;\">Tennessee</td><td style = \"text-align: left;\">2020-08-27</td><td style = \"text-align: right;\">0.160541</td><td style = \"text-align: right;\">0.215326</td><td style = \"text-align: right;\">0.0508109</td><td style = \"text-align: right;\">0.694299</td><td style = \"text-align: right;\">0.11499</td><td style = \"text-align: right;\">0.66569</td><td style = \"text-align: right;\">18979</td></tr><tr><td class = \"rowNumber\" style = \"font-weight: bold; text-align: right;\">7117</td><td style = \"text-align: right;\">7168</td><td style = \"text-align: left;\">Texas</td><td style = \"text-align: left;\">2020-08-27</td><td style = \"text-align: right;\">0.729889</td><td style = \"text-align: right;\">0.888263</td><td style = \"text-align: right;\">0.375539</td><td style = \"text-align: right;\">0.673346</td><td style = \"text-align: right;\">0.206366</td><td style = \"text-align: right;\">0.352489</td><td style = \"text-align: right;\">43155</td></tr><tr><td class = \"rowNumber\" style = \"font-weight: bold; text-align: right;\">7118</td><td style = \"text-align: right;\">7169</td><td style = \"text-align: left;\">Utah</td><td style = \"text-align: left;\">2020-08-27</td><td style = \"text-align: right;\">0.0674792</td><td style = \"text-align: right;\">0.0727163</td><td style = \"text-align: right;\">0.0122396</td><td style = \"text-align: right;\">0.49848</td><td style = \"text-align: right;\">0.0821355</td><td style = \"text-align: right;\">0.427754</td><td style = \"text-align: right;\">6956</td></tr><tr><td class = \"rowNumber\" style = \"font-weight: bold; text-align: right;\">7119</td><td style = \"text-align: right;\">7170</td><td style = \"text-align: left;\">Vermont</td><td style = \"text-align: left;\">2020-08-27</td><td style = \"text-align: right;\">0.00116173</td><td style = \"text-align: right;\">0.00190297</td><td style = \"text-align: right;\">0.00176153</td><td style = \"text-align: right;\">0.0720744</td><td style = \"text-align: right;\">0.37577</td><td style = \"text-align: right;\">0.42682</td><td style = \"text-align: right;\">3552</td></tr><tr><td class = \"rowNumber\" style = \"font-weight: bold; text-align: right;\">7120</td><td style = \"text-align: right;\">7171</td><td style = \"text-align: left;\">Virginia</td><td style = \"text-align: left;\">2020-08-27</td><td style = \"text-align: right;\">0.204368</td><td style = \"text-align: right;\">0.168171</td><td style = \"text-align: right;\">0.0767479</td><td style = \"text-align: right;\">0.430374</td><td style = \"text-align: right;\">0.222793</td><td style = \"text-align: right;\">0.376656</td><td style = \"text-align: right;\">17503</td></tr><tr><td class = \"rowNumber\" style = \"font-weight: bold; text-align: right;\">7121</td><td style = \"text-align: right;\">7172</td><td style = \"text-align: left;\">Washington</td><td style = \"text-align: left;\">2020-08-27</td><td style = \"text-align: right;\">0.180722</td><td style = \"text-align: right;\">0.10474</td><td style = \"text-align: right;\">0.0574014</td><td style = \"text-align: right;\">0.297907</td><td style = \"text-align: right;\">0.26694</td><td style = \"text-align: right;\">0.389691</td><td style = \"text-align: right;\">14511</td></tr><tr><td class = \"rowNumber\" style = \"font-weight: bold; text-align: right;\">7122</td><td style = \"text-align: right;\">7173</td><td style = \"text-align: left;\">West Virginia</td><td style = \"text-align: left;\">2020-08-27</td><td style = \"text-align: right;\">0.0311657</td><td style = \"text-align: right;\">0.0135391</td><td style = \"text-align: right;\">0.00601348</td><td style = \"text-align: right;\">0.163409</td><td style = \"text-align: right;\">0.211499</td><td style = \"text-align: right;\">0.492857</td><td style = \"text-align: right;\">5681</td></tr><tr><td class = \"rowNumber\" style = \"font-weight: bold; text-align: right;\">7123</td><td style = \"text-align: right;\">7174</td><td style = \"text-align: left;\">Wisconsin</td><td style = \"text-align: left;\">2020-08-27</td><td style = \"text-align: right;\">0.134683</td><td style = \"text-align: right;\">0.105369</td><td style = \"text-align: right;\">0.0337423</td><td style = \"text-align: right;\">0.39506</td><td style = \"text-align: right;\">0.156057</td><td style = \"text-align: right;\">0.449505</td><td style = \"text-align: right;\">28825</td></tr><tr><td class = \"rowNumber\" style = \"font-weight: bold; text-align: right;\">7124</td><td style = \"text-align: right;\">7175</td><td style = \"text-align: left;\">Wyoming</td><td style = \"text-align: left;\">2020-08-27</td><td style = \"text-align: right;\">0.0</td><td style = \"text-align: right;\">0.00500758</td><td style = \"text-align: right;\">0.00112373</td><td style = \"text-align: right;\">0.198059</td><td style = \"text-align: right;\">0.101643</td><td style = \"text-align: right;\">0.274242</td><td style = \"text-align: right;\">502</td></tr></tbody></table></div>"
      ],
      "text/latex": [
       "\\begin{tabular}{r|ccccccc}\n",
       "\t& Column1 & State & Date & population & confirmed & deaths & \\\\\n",
       "\t\\hline\n",
       "\t& Int64 & String31 & Date & Float64 & Float64 & Float64 & \\\\\n",
       "\t\\hline\n",
       "\t1 & 52 & Alabama & 2020-04-13 & 0.111072 & 0.00500903 & 0.00300674 & $\\dots$ \\\\\n",
       "\t2 & 53 & Alaska & 2020-04-13 & 0.00392428 & 1.01222e-5 & 0.000242969 & $\\dots$ \\\\\n",
       "\t3 & 54 & Arizona & 2020-04-13 & 0.172087 & 0.0049671 & 0.00370528 & $\\dots$ \\\\\n",
       "\t4 & 55 & Arkansas & 2020-04-13 & 0.0626465 & 0.00164847 & 0.000880763 & $\\dots$ \\\\\n",
       "\t5 & 56 & California & 2020-04-13 & 1.0 & 0.0342144 & 0.021685 & $\\dots$ \\\\\n",
       "\t6 & 57 & Colorado & 2020-04-13 & 0.133047 & 0.010731 & 0.00929357 & $\\dots$ \\\\\n",
       "\t7 & 58 & Connecticut & 2020-04-13 & 0.0767085 & 0.0189588 & 0.0182834 & $\\dots$ \\\\\n",
       "\t8 & 59 & Delaware & 2020-04-13 & 0.0101456 & 0.00215169 & 0.00124522 & $\\dots$ \\\\\n",
       "\t9 & 60 & District of Columbia & 2020-04-13 & 0.00326172 & 0.00243655 & 0.0015793 & $\\dots$ \\\\\n",
       "\t10 & 61 & Florida & 2020-04-13 & 0.536787 & 0.0300036 & 0.0151552 & $\\dots$ \\\\\n",
       "\t11 & 62 & Georgia & 2020-04-13 & 0.257842 & 0.0188634 & 0.0141226 & $\\dots$ \\\\\n",
       "\t12 & 63 & Hawaii & 2020-04-13 & 0.0215011 & 0.00033837 & 0.00027334 & $\\dots$ \\\\\n",
       "\t13 & 64 & Idaho & 2020-04-13 & 0.0310352 & 0.0016716 & 0.000820021 & $\\dots$ \\\\\n",
       "\t14 & 65 & Illinois & 2020-04-13 & 0.310608 & 0.0314583 & 0.0242362 & $\\dots$ \\\\\n",
       "\t15 & 66 & Indiana & 2020-04-13 & 0.158051 & 0.0116969 & 0.0106299 & $\\dots$ \\\\\n",
       "\t16 & 67 & Iowa & 2020-04-13 & 0.0661721 & 0.00208228 & 0.00124522 & $\\dots$ \\\\\n",
       "\t17 & 68 & Kansas & 2020-04-13 & 0.0599627 & 0.00161955 & 0.00188301 & $\\dots$ \\\\\n",
       "\t18 & 69 & Kentucky & 2020-04-13 & 0.0998862 & 0.00252765 & 0.00343194 & $\\dots$ \\\\\n",
       "\t19 & 70 & Louisiana & 2020-04-13 & 0.104538 & 0.0299992 & 0.0268481 & $\\dots$ \\\\\n",
       "\t20 & 71 & Maine & 2020-04-13 & 0.0196605 & 0.000618899 & 0.000577052 & $\\dots$ \\\\\n",
       "\t21 & 72 & Maryland & 2020-04-13 & 0.140417 & 0.0125313 & 0.00795724 & $\\dots$ \\\\\n",
       "\t22 & 73 & Massachusetts & 2020-04-13 & 0.162168 & 0.0384599 & 0.0256332 & $\\dots$ \\\\\n",
       "\t23 & 74 & Michigan & 2020-04-13 & 0.241646 & 0.0366784 & 0.0486546 & $\\dots$ \\\\\n",
       "\t24 & 75 & Minnesota & 2020-04-13 & 0.129988 & 0.00195358 & 0.00212598 & $\\dots$ \\\\\n",
       "\t25 & 76 & Mississippi & 2020-04-13 & 0.0615766 & 0.00386378 & 0.00297637 & $\\dots$ \\\\\n",
       "\t26 & 77 & Missouri & 2020-04-13 & 0.142774 & 0.00613838 & 0.00373565 & $\\dots$ \\\\\n",
       "\t27 & 78 & Montana & 2020-04-13 & 0.0125861 & 0.000179307 & 0.000212598 & $\\dots$ \\\\\n",
       "\t28 & 79 & Nebraska & 2020-04-13 & 0.0348196 & 0.000786638 & 0.000516309 & $\\dots$ \\\\\n",
       "\t29 & 80 & Nevada & 2020-04-13 & 0.064248 & 0.00393319 & 0.00346231 & $\\dots$ \\\\\n",
       "\t30 & 81 & New Hampshire & 2020-04-13 & 0.0200586 & 0.00103391 & 0.000698536 & $\\dots$ \\\\\n",
       "\t$\\dots$ & $\\dots$ & $\\dots$ & $\\dots$ & $\\dots$ & $\\dots$ & $\\dots$ &  \\\\\n",
       "\\end{tabular}\n"
      ],
      "text/plain": [
       "\u001b[1m7124×10 DataFrame\u001b[0m\n",
       "\u001b[1m  Row \u001b[0m│\u001b[1m Column1 \u001b[0m\u001b[1m State                \u001b[0m\u001b[1m Date       \u001b[0m\u001b[1m population \u001b[0m\u001b[1m confirmed  \u001b[0m\u001b[1m dea\u001b[0m ⋯\n",
       "      │\u001b[90m Int64   \u001b[0m\u001b[90m String31             \u001b[0m\u001b[90m Date       \u001b[0m\u001b[90m Float64    \u001b[0m\u001b[90m Float64    \u001b[0m\u001b[90m Flo\u001b[0m ⋯\n",
       "──────┼─────────────────────────────────────────────────────────────────────────\n",
       "    1 │      52  Alabama               2020-04-13  0.111072    0.00500903  0.0 ⋯\n",
       "    2 │      53  Alaska                2020-04-13  0.00392428  1.01222e-5  0.0\n",
       "    3 │      54  Arizona               2020-04-13  0.172087    0.0049671   0.0\n",
       "    4 │      55  Arkansas              2020-04-13  0.0626465   0.00164847  0.0\n",
       "    5 │      56  California            2020-04-13  1.0         0.0342144   0.0 ⋯\n",
       "    6 │      57  Colorado              2020-04-13  0.133047    0.010731    0.0\n",
       "    7 │      58  Connecticut           2020-04-13  0.0767085   0.0189588   0.0\n",
       "    8 │      59  Delaware              2020-04-13  0.0101456   0.00215169  0.0\n",
       "    9 │      60  District of Columbia  2020-04-13  0.00326172  0.00243655  0.0 ⋯\n",
       "   10 │      61  Florida               2020-04-13  0.536787    0.0300036   0.0\n",
       "   11 │      62  Georgia               2020-04-13  0.257842    0.0188634   0.0\n",
       "  ⋮   │    ⋮              ⋮                ⋮           ⋮           ⋮           ⋱\n",
       " 7115 │    7166  South Dakota          2020-08-27  0.00785699  0.0172424   0.0\n",
       " 7116 │    7167  Tennessee             2020-08-27  0.160541    0.215326    0.0 ⋯\n",
       " 7117 │    7168  Texas                 2020-08-27  0.729889    0.888263    0.3\n",
       " 7118 │    7169  Utah                  2020-08-27  0.0674792   0.0727163   0.0\n",
       " 7119 │    7170  Vermont               2020-08-27  0.00116173  0.00190297  0.0\n",
       " 7120 │    7171  Virginia              2020-08-27  0.204368    0.168171    0.0 ⋯\n",
       " 7121 │    7172  Washington            2020-08-27  0.180722    0.10474     0.0\n",
       " 7122 │    7173  West Virginia         2020-08-27  0.0311657   0.0135391   0.0\n",
       " 7123 │    7174  Wisconsin             2020-08-27  0.134683    0.105369    0.0\n",
       " 7124 │    7175  Wyoming               2020-08-27  0.0         0.00500758  0.0 ⋯\n",
       "\u001b[36m                                                 5 columns and 7103 rows omitted\u001b[0m"
      ]
     },
     "execution_count": 160,
     "metadata": {},
     "output_type": "execute_result"
    }
   ],
   "source": [
    "df_no_missing[:, 1:10]"
   ]
  },
  {
   "cell_type": "code",
   "execution_count": 104,
   "metadata": {},
   "outputs": [
    {
     "data": {
      "text/plain": [
       "exponential_decay_weights (generic function with 1 method)"
      ]
     },
     "execution_count": 104,
     "metadata": {},
     "output_type": "execute_result"
    }
   ],
   "source": [
    "function exponential_decay_weights(t, decay_rate)\n",
    "    time_points = 1:t\n",
    "    res = [exp(-decay_rate * x) for x in time_points]\n",
    "    somme = sum(res)\n",
    "    return reverse([x/somme for x in res])\n",
    "end"
   ]
  },
  {
   "cell_type": "code",
   "execution_count": 47,
   "metadata": {},
   "outputs": [
    {
     "data": {
      "text/plain": [
       "7124-element Vector{Vector{Vector{Int64}}}:\n",
       " [[0, 41, 25, 20]]\n",
       " [[1, 19, 29, 34]]\n",
       " [[2, 20, 25, 47]]\n",
       " [[3, 27, 31, 12]]\n",
       " [[4, 44, 9, 38]]\n",
       " [[5, 50, 14, 23]]\n",
       " [[6, 18, 28, 16]]\n",
       " [[7, 40, 29, 34]]\n",
       " [[8, 40, 7, 29]]\n",
       " [[9, 44, 38, 33]]\n",
       " [[10, 35, 13, 2]]\n",
       " [[11, 12, 26, 31]]\n",
       " [[12, 11, 31, 27]]\n",
       " ⋮\n",
       " [[18, 30, 6, 21], [70, 82, 58, 73, 60], [134, 122, 110, 125, 112], [186, 174, 177, 162], [238, 226, 229, 214, 216], [290, 278, 281, 300, 266], [342, 330, 333, 352, 318], [394, 382, 385, 404], [446, 434, 456, 437, 422], [498, 508, 486, 489]  …  [6644, 6612, 6622, 6635, 6611], [6696, 6664, 6687, 6674, 6663], [6748, 6716, 6739, 6726, 6715], [6800, 6768, 6791, 6778, 6767], [6852, 6820, 6843, 6830, 6819], [6904, 6872, 6895, 6882, 6871], [6956, 6924, 6947, 6934, 6923], [7008, 6976, 6999, 6986, 6975], [7060, 7028, 7051, 7038, 7027], [7112, 7080, 7103, 7090, 7079]]\n",
       " [[30, 18, 32, 21], [82, 70, 73, 84, 58], [134, 125, 122, 136, 144], [186, 177, 174, 188], [238, 229, 248, 226, 216], [290, 281, 300, 278, 268], [342, 333, 352, 330, 320], [394, 385, 404, 372], [446, 456, 437, 424, 434], [498, 508, 489, 476]  …  [6645, 6604, 6628, 6632, 6606], [6697, 6656, 6680, 6684, 6658], [6749, 6708, 6736, 6732, 6723], [6801, 6760, 6788, 6784, 6775], [6853, 6812, 6840, 6836, 6827], [6905, 6864, 6892, 6888, 6879], [6957, 6916, 6944, 6940, 6931], [7009, 6968, 6996, 6992, 6983], [7061, 7020, 7048, 7044, 7035], [7113, 7072, 7100, 7087, 7096]]\n",
       " [[40, 8, 21, 7], [92, 60, 73, 82, 59], [144, 125, 111, 112, 146], [196, 163, 164, 198], [248, 229, 250, 216, 215], [300, 281, 302, 268, 267], [352, 320, 319, 354, 333], [404, 372, 406, 371], [456, 423, 458, 424, 450], [508, 476, 510, 475]  …  [6646, 6631, 6616, 6649, 6620], [6683, 6698, 6668, 6672, 6701], [6750, 6735, 6720, 6724, 6753], [6802, 6787, 6776, 6772, 6805], [6854, 6839, 6828, 6824, 6857], [6906, 6891, 6880, 6876, 6909], [6958, 6943, 6932, 6928, 6961], [7010, 6984, 6995, 6980, 7013], [7062, 7036, 7047, 7032, 7065], [7114, 7088, 7099, 7084, 7117]]\n",
       " [[30, 32, 21, 18], [82, 73, 84, 70, 92], [134, 125, 144, 136, 122], [186, 177, 196, 188], [238, 229, 248, 226, 216], [290, 281, 300, 268, 278], [342, 333, 352, 320, 330], [394, 404, 385, 372], [446, 456, 437, 424, 423], [498, 508, 489, 476]  …  [6647, 6604, 6607, 6614, 6645], [6699, 6656, 6659, 6666, 6697], [6751, 6708, 6711, 6749, 6718], [6803, 6763, 6760, 6801, 6788], [6855, 6815, 6812, 6853, 6840], [6907, 6867, 6864, 6905, 6892], [6959, 6919, 6916, 6944, 6957], [7011, 6971, 6968, 6996, 7009], [7063, 7023, 7020, 7048, 7061], [7115, 7075, 7072, 7100, 7113]]\n",
       " [[32, 30, 9, 44], [84, 61, 82, 96, 56], [136, 134, 113, 148, 108], [188, 186, 165, 200], [240, 238, 252, 217, 212], [292, 290, 269, 304, 264], [344, 342, 321, 356, 316], [396, 394, 373, 408], [448, 446, 425, 460, 420], [500, 498, 477, 512]  …  [6648, 6613, 6608, 6614, 6617], [6700, 6665, 6660, 6666, 6669], [6752, 6717, 6712, 6718, 6721], [6804, 6769, 6764, 6770, 6773], [6856, 6821, 6816, 6822, 6825], [6908, 6873, 6868, 6874, 6877], [6960, 6925, 6920, 6926, 6929], [7012, 6977, 6972, 6978, 6981], [7064, 7029, 7024, 7030, 7033], [7116, 7081, 7076, 7082, 7085]]\n",
       " [[30, 21, 40, 8], [82, 92, 73, 60, 94], [144, 125, 134, 146, 111], [196, 198, 177, 163], [248, 229, 250, 253, 216], [300, 281, 302, 305, 267], [352, 354, 333, 357, 320], [404, 406, 409, 372], [456, 458, 461, 423, 424], [508, 510, 513, 475]  …  [6649, 6607, 6631, 6619, 6640], [6701, 6659, 6683, 6692, 6671], [6753, 6711, 6735, 6744, 6723], [6805, 6787, 6763, 6796, 6775], [6857, 6839, 6815, 6848, 6827], [6909, 6891, 6900, 6867, 6879], [6961, 6943, 6952, 6919, 6931], [7013, 6995, 7004, 6971, 6983], [7065, 7047, 7056, 7023, 7035], [7117, 7099, 7108, 7075, 7087]]\n",
       " [[46, 18, 8, 40], [98, 70, 60, 92, 53], [150, 112, 144, 105, 128], [202, 164, 196, 180], [248, 216, 254, 232, 227], [300, 268, 306, 291, 279], [352, 320, 343, 358, 331], [404, 372, 395, 410], [456, 424, 447, 440, 462], [508, 476, 499, 492]  …  [6650, 6623, 6653, 6630, 6609], [6702, 6675, 6705, 6682, 6661], [6754, 6727, 6757, 6734, 6713], [6806, 6779, 6809, 6786, 6765], [6858, 6831, 6861, 6838, 6817], [6910, 6883, 6913, 6890, 6893], [6962, 6935, 6965, 6942, 6945], [7014, 6987, 7017, 6994, 6997], [7066, 7039, 7069, 7046, 7049], [7118, 7091, 7121, 7098, 7101]]\n",
       " [[30, 21, 18, 38], [82, 73, 70, 90, 92], [134, 125, 122, 144, 142], [186, 177, 196, 174], [238, 229, 248, 246, 226], [290, 281, 300, 298, 280], [342, 333, 352, 350, 320], [394, 385, 404, 372], [446, 437, 456, 424, 454], [498, 508, 489, 476]  …  [6651, 6637, 6627, 6629, 6654], [6703, 6689, 6679, 6681, 6706], [6755, 6741, 6731, 6733, 6758], [6807, 6793, 6783, 6785, 6810], [6859, 6845, 6835, 6837, 6862], [6911, 6897, 6889, 6887, 6914], [6963, 6949, 6941, 6939, 6966], [7015, 7001, 6993, 6991, 7018], [7067, 7045, 7053, 7043, 7070], [7119, 7097, 7095, 7105, 7122]]\n",
       " [[30, 21, 18, 40], [82, 73, 70, 92, 72], [134, 125, 122, 144, 142], [186, 177, 196, 174], [229, 238, 248, 226, 228], [281, 300, 290, 280, 298], [333, 352, 342, 320, 332], [385, 404, 394, 372], [456, 437, 446, 424, 423], [508, 489, 498, 476]  …  [6627, 6652, 6621, 6629, 6651], [6679, 6704, 6673, 6661, 6681], [6731, 6756, 6725, 6713, 6733], [6783, 6808, 6777, 6765, 6785], [6835, 6860, 6829, 6817, 6837], [6887, 6912, 6869, 6881, 6889], [6939, 6964, 6921, 6933, 6941], [7016, 6991, 6973, 6985, 6993], [7068, 7025, 7043, 7037, 7045], [7120, 7077, 7095, 7089, 7097]]\n",
       " [[40, 8, 31, 34], [92, 60, 83, 59, 86], [144, 135, 111, 112, 138], [196, 187, 163, 190], [248, 239, 242, 215, 216], [300, 294, 291, 267, 268], [352, 346, 319, 320, 343], [404, 398, 371, 372], [456, 450, 423, 447, 424], [508, 502, 475, 499]  …  [6653, 6630, 6623, 6638, 6621], [6705, 6682, 6675, 6673, 6690], [6757, 6734, 6727, 6725, 6742], [6809, 6786, 6779, 6777, 6806], [6861, 6838, 6831, 6829, 6858], [6913, 6890, 6883, 6881, 6910], [6965, 6942, 6935, 6933, 6962], [7017, 6994, 6987, 7014, 6985], [7069, 7046, 7039, 7066, 7037], [7121, 7098, 7091, 7118, 7089]]\n",
       " [[30, 21, 18, 40], [82, 73, 92, 70, 60], [125, 134, 144, 111, 112], [196, 177, 186, 163], [229, 248, 238, 216, 215], [300, 281, 290, 268, 267], [352, 333, 320, 319, 342], [404, 385, 372, 371], [456, 437, 423, 424, 461], [508, 476, 475, 513]  …  [6654, 6640, 6649, 6627, 6651], [6706, 6692, 6701, 6679, 6703], [6758, 6744, 6753, 6731, 6755], [6810, 6796, 6783, 6805, 6807], [6862, 6848, 6835, 6857, 6837], [6914, 6900, 6887, 6909, 6889], [6966, 6952, 6939, 6941, 6961], [7018, 7004, 6991, 6993, 6985], [7070, 7056, 7043, 7045, 7037], [7122, 7108, 7095, 7089, 7097]]\n",
       " [[40, 42, 45, 49], [92, 94, 97, 101, 60], [144, 146, 149, 111, 153], [196, 198, 201, 163], [248, 250, 253, 259, 257], [302, 300, 305, 311, 271], [354, 357, 346, 352, 363], [406, 398, 409, 415], [458, 450, 461, 456, 467], [510, 513, 508, 502]  …  [6655, 6615, 6643, 6641, 6630], [6707, 6667, 6693, 6695, 6682], [6759, 6719, 6745, 6747, 6734], [6811, 6771, 6797, 6799, 6786], [6863, 6823, 6849, 6851, 6838], [6915, 6875, 6901, 6903, 6890], [6967, 6927, 6953, 6955, 6942], [7019, 6979, 7005, 7007, 6994], [7071, 7031, 7057, 7059, 7046], [7123, 7083, 7109, 7111, 7098]]"
      ]
     },
     "execution_count": 47,
     "metadata": {},
     "output_type": "execute_result"
    }
   ],
   "source": [
    "pred = [eval(Meta.parse(x)) for x in df_no_missing[:, \"Value\"]]\n",
    "neigh = [eval(Meta.parse(x)) for x in df_no_missing[:, \"Neighbors\"]];"
   ]
  },
  {
   "cell_type": "code",
   "execution_count": 86,
   "metadata": {},
   "outputs": [
    {
     "data": {
      "text/plain": [
       "get_matrix (generic function with 2 methods)"
      ]
     },
     "execution_count": 86,
     "metadata": {},
     "output_type": "execute_result"
    }
   ],
   "source": [
    "function get_matrix(liste_w, liste_y)\n",
    "    n = length(liste_w)\n",
    "    matrix_w = zeros(Float64, n, 52)\n",
    "    matrix_y = zeros(Float64, n, 52)\n",
    "    for time in 1:n\n",
    "        neighbors = liste_w[time]\n",
    "        values = liste_y[time]\n",
    "        k = length(neighbors)\n",
    "        for (ind,x) in enumerate(neighbors)\n",
    "            x = x - 52*(time-1)\n",
    "            matrix_w[time, x+1] = 1/k\n",
    "            matrix_y[time, x+1] = values[ind]\n",
    "        end\n",
    "    end\n",
    "    return matrix_w, matrix_y\n",
    "end"
   ]
  },
  {
   "cell_type": "code",
   "execution_count": 133,
   "metadata": {},
   "outputs": [
    {
     "data": {
      "text/plain": [
       "1×52 Matrix{Float64}:\n",
       " 2165.0  0.0  0.0  0.0  0.0  0.0  0.0  …  0.0  0.0  0.0  0.0  0.0  0.0  0.0"
      ]
     },
     "execution_count": 133,
     "metadata": {},
     "output_type": "execute_result"
    }
   ],
   "source": [
    "get_matrix(neigh[1], pred[1])[2]"
   ]
  },
  {
   "cell_type": "code",
   "execution_count": 151,
   "metadata": {},
   "outputs": [
    {
     "name": "stdout",
     "output_type": "stream",
     "text": [
      "Set parameter Username\n",
      "Academic license - for non-commercial use only - expires 2024-08-23\n"
     ]
    },
    {
     "data": {
      "text/plain": [
       "optimisation_cost (generic function with 2 methods)"
      ]
     },
     "execution_count": 151,
     "metadata": {},
     "output_type": "execute_result"
    }
   ],
   "source": [
    "env = Gurobi.Env();\n",
    "function optimisation_cost(ind, decay_rate, solver_output=0)\n",
    "    matrix_w, matrix_y = get_matrix(neigh[ind], pred[ind])\n",
    "    time = size(matrix_w)[1]\n",
    "    nb_states = size(matrix_w)[2]\n",
    "    \n",
    "    weights_temporal = exponential_decay_weights(time, decay_rate)\n",
    "    \n",
    "    # Build model\n",
    "    model = Model(()-> Gurobi.Optimizer(env))\n",
    "    set_optimizer_attribute(model, \"OutputFlag\", solver_output)\n",
    "    \n",
    "    # Variables\n",
    "    @variable(model, z >= 0)\n",
    "    \n",
    "    @variable(model, s[t in 1:time, k in 1:nb_states])\n",
    "    \n",
    "    # Constraint\n",
    "    @constraint(model, [t in 1:time, k in 1:nb_states], s[t, k] >= - matrix_y[t, k])\n",
    "    @constraint(model, [t in 1:time, k in 1:nb_states], s[t, k] >= - z)\n",
    "    # Objective\n",
    "    #@objective(model, Min,  sum(weights_temporal[t]* sum(matrix_w[t, k]*(2*z + 10*s[t, k]) for k in 1:nb_states) for t in 1:time))\n",
    "    @objective(model, Min,  sum(weights_temporal[t]*matrix_w[t, k]*(2*z + 10*s[t, k]) for k in 1:nb_states, t in 1:time))\n",
    "    # Optimize\n",
    "    optimize!(model)\n",
    "    \n",
    "    # Return estimated betas\n",
    "    \n",
    "    return (value.(z))\n",
    "end"
   ]
  },
  {
   "cell_type": "code",
   "execution_count": 149,
   "metadata": {},
   "outputs": [
    {
     "name": "stdout",
     "output_type": "stream",
     "text": [
      "[0.2689414213699951, 0.7310585786300049]\n",
      "Gurobi Optimizer version 10.0.2 build v10.0.2rc0 (mac64[arm])\n",
      "\n",
      "CPU model: Apple M2\n",
      "Thread count: 8 physical cores, 8 logical processors, using up to 8 threads\n",
      "\n",
      "Optimize a model with 208 rows, 105 columns and 312 nonzeros\n",
      "Model fingerprint: 0x16c65ce5\n",
      "Coefficient statistics:\n",
      "  Matrix range     [1e+00, 1e+00]\n",
      "  Objective range  [7e-01, 2e+00]\n",
      "  Bounds range     [0e+00, 0e+00]\n",
      "  RHS range        [5e+01, 2e+03]\n",
      "Presolve removed 199 rows and 95 columns\n",
      "Presolve time: 0.00s\n",
      "Presolved: 9 rows, 10 columns, 18 nonzeros\n",
      "\n",
      "Iteration    Objective       Primal Inf.    Dual Inf.      Time\n",
      "       0   -4.4196473e+03   3.657500e+02   0.000000e+00      0s\n",
      "       3   -2.8047951e+03   0.000000e+00   0.000000e+00      0s\n",
      "\n",
      "Solved in 3 iterations and 0.00 seconds (0.00 work units)\n",
      "Optimal objective -2.804795116e+03\n",
      "\n",
      "User-callback calls 46, time in user-callback 0.00 sec\n"
     ]
    },
    {
     "data": {
      "text/plain": [
       "853.0"
      ]
     },
     "execution_count": 149,
     "metadata": {},
     "output_type": "execute_result"
    }
   ],
   "source": [
    "optimisation_cost(80, 1, 1)"
   ]
  },
  {
   "cell_type": "code",
   "execution_count": 161,
   "metadata": {},
   "outputs": [],
   "source": [
    "new_pres = []\n",
    "for ind in 1:length(pred)\n",
    "    push!(new_pres, optimisation_cost(ind, 1, 0))\n",
    "end"
   ]
  },
  {
   "cell_type": "code",
   "execution_count": 164,
   "metadata": {},
   "outputs": [
    {
     "data": {
      "text/html": [
       "<div><div style = \"float: left;\"><span>7124×11 DataFrame</span></div><div style = \"float: right;\"><span style = \"font-style: italic;\">7099 rows omitted</span></div><div style = \"clear: both;\"></div></div><div class = \"data-frame\" style = \"overflow-x: scroll;\"><table class = \"data-frame\" style = \"margin-bottom: 6px;\"><thead><tr class = \"header\"><th class = \"rowNumber\" style = \"font-weight: bold; text-align: right;\">Row</th><th style = \"text-align: left;\">Column1</th><th style = \"text-align: left;\">State</th><th style = \"text-align: left;\">Date</th><th style = \"text-align: left;\">population</th><th style = \"text-align: left;\">confirmed</th><th style = \"text-align: left;\">deaths</th><th style = \"text-align: left;\">incident_rate</th><th style = \"text-align: left;\">mortality_rate</th><th style = \"text-align: left;\">testing_rate</th><th style = \"text-align: left;\">TestsReported</th><th style = \"text-align: left;\">Pres</th></tr><tr class = \"subheader headerLastRow\"><th class = \"rowNumber\" style = \"font-weight: bold; text-align: right;\"></th><th title = \"Int64\" style = \"text-align: left;\">Int64</th><th title = \"String31\" style = \"text-align: left;\">String31</th><th title = \"Dates.Date\" style = \"text-align: left;\">Date</th><th title = \"Float64\" style = \"text-align: left;\">Float64</th><th title = \"Float64\" style = \"text-align: left;\">Float64</th><th title = \"Float64\" style = \"text-align: left;\">Float64</th><th title = \"Float64\" style = \"text-align: left;\">Float64</th><th title = \"Float64\" style = \"text-align: left;\">Float64</th><th title = \"Float64\" style = \"text-align: left;\">Float64</th><th title = \"Int64\" style = \"text-align: left;\">Int64</th><th title = \"Any\" style = \"text-align: left;\">Any</th></tr></thead><tbody><tr><td class = \"rowNumber\" style = \"font-weight: bold; text-align: right;\">1</td><td style = \"text-align: right;\">52</td><td style = \"text-align: left;\">Alabama</td><td style = \"text-align: left;\">2020-04-13</td><td style = \"text-align: right;\">0.111072</td><td style = \"text-align: right;\">0.00500903</td><td style = \"text-align: right;\">0.00300674</td><td style = \"text-align: right;\">0.0158113</td><td style = \"text-align: right;\">0.272074</td><td style = \"text-align: right;\">0.0118867</td><td style = \"text-align: right;\">2626</td><td style = \"text-align: left;\">3015.0</td></tr><tr><td class = \"rowNumber\" style = \"font-weight: bold; text-align: right;\">2</td><td style = \"text-align: right;\">53</td><td style = \"text-align: left;\">Alaska</td><td style = \"text-align: left;\">2020-04-13</td><td style = \"text-align: right;\">0.00392428</td><td style = \"text-align: right;\">1.01222e-5</td><td style = \"text-align: right;\">0.000242969</td><td style = \"text-align: right;\">0.00508025</td><td style = \"text-align: right;\">0.296715</td><td style = \"text-align: right;\">0.0266052</td><td style = \"text-align: right;\">399</td><td style = \"text-align: left;\">404.0</td></tr><tr><td class = \"rowNumber\" style = \"font-weight: bold; text-align: right;\">3</td><td style = \"text-align: right;\">54</td><td style = \"text-align: left;\">Arizona</td><td style = \"text-align: left;\">2020-04-13</td><td style = \"text-align: right;\">0.172087</td><td style = \"text-align: right;\">0.0049671</td><td style = \"text-align: right;\">0.00370528</td><td style = \"text-align: right;\">0.00655017</td><td style = \"text-align: right;\">0.337782</td><td style = \"text-align: right;\">0.0113124</td><td style = \"text-align: right;\">947</td><td style = \"text-align: left;\">3015.0</td></tr><tr><td class = \"rowNumber\" style = \"font-weight: bold; text-align: right;\">4</td><td style = \"text-align: right;\">55</td><td style = \"text-align: left;\">Arkansas</td><td style = \"text-align: left;\">2020-04-13</td><td style = \"text-align: right;\">0.0626465</td><td style = \"text-align: right;\">0.00164847</td><td style = \"text-align: right;\">0.000880763</td><td style = \"text-align: right;\">0.00769774</td><td style = \"text-align: right;\">0.211499</td><td style = \"text-align: right;\">0.0157655</td><td style = \"text-align: right;\">293</td><td style = \"text-align: left;\">1921.0</td></tr><tr><td class = \"rowNumber\" style = \"font-weight: bold; text-align: right;\">5</td><td style = \"text-align: right;\">56</td><td style = \"text-align: left;\">California</td><td style = \"text-align: left;\">2020-04-13</td><td style = \"text-align: right;\">1.0</td><td style = \"text-align: right;\">0.0342144</td><td style = \"text-align: right;\">0.021685</td><td style = \"text-align: right;\">0.00981881</td><td style = \"text-align: right;\">0.306982</td><td style = \"text-align: right;\">0.00898563</td><td style = \"text-align: right;\">9150</td><td style = \"text-align: left;\">10816.0</td></tr><tr><td class = \"rowNumber\" style = \"font-weight: bold; text-align: right;\">6</td><td style = \"text-align: right;\">57</td><td style = \"text-align: left;\">Colorado</td><td style = \"text-align: left;\">2020-04-13</td><td style = \"text-align: right;\">0.133047</td><td style = \"text-align: right;\">0.010731</td><td style = \"text-align: right;\">0.00929357</td><td style = \"text-align: right;\">0.033892</td><td style = \"text-align: right;\">0.408624</td><td style = \"text-align: right;\">0.0127428</td><td style = \"text-align: right;\">50</td><td style = \"text-align: left;\">2790.0</td></tr><tr><td class = \"rowNumber\" style = \"font-weight: bold; text-align: right;\">7</td><td style = \"text-align: right;\">58</td><td style = \"text-align: left;\">Connecticut</td><td style = \"text-align: left;\">2020-04-13</td><td style = \"text-align: right;\">0.0767085</td><td style = \"text-align: right;\">0.0189588</td><td style = \"text-align: right;\">0.0182834</td><td style = \"text-align: right;\">0.111124</td><td style = \"text-align: right;\">0.462012</td><td style = \"text-align: right;\">0.0251683</td><td style = \"text-align: right;\">1680</td><td style = \"text-align: left;\">2703.0</td></tr><tr><td class = \"rowNumber\" style = \"font-weight: bold; text-align: right;\">8</td><td style = \"text-align: right;\">59</td><td style = \"text-align: left;\">Delaware</td><td style = \"text-align: left;\">2020-04-13</td><td style = \"text-align: right;\">0.0101456</td><td style = \"text-align: right;\">0.00215169</td><td style = \"text-align: right;\">0.00124522</td><td style = \"text-align: right;\">0.0483397</td><td style = \"text-align: right;\">0.23922</td><td style = \"text-align: right;\">0.0245488</td><td style = \"text-align: right;\">767</td><td style = \"text-align: left;\">1059.0</td></tr><tr><td class = \"rowNumber\" style = \"font-weight: bold; text-align: right;\">9</td><td style = \"text-align: right;\">60</td><td style = \"text-align: left;\">District of Columbia</td><td style = \"text-align: left;\">2020-04-13</td><td style = \"text-align: right;\">0.00326172</td><td style = \"text-align: right;\">0.00243655</td><td style = \"text-align: right;\">0.0015793</td><td style = \"text-align: right;\">0.0794369</td><td style = \"text-align: right;\">0.273101</td><td style = \"text-align: right;\">0.0317294</td><td style = \"text-align: right;\">391</td><td style = \"text-align: left;\">1059.0</td></tr><tr><td class = \"rowNumber\" style = \"font-weight: bold; text-align: right;\">10</td><td style = \"text-align: right;\">61</td><td style = \"text-align: left;\">Florida</td><td style = \"text-align: left;\">2020-04-13</td><td style = \"text-align: right;\">0.536787</td><td style = \"text-align: right;\">0.0300036</td><td style = \"text-align: right;\">0.0151552</td><td style = \"text-align: right;\">0.176909</td><td style = \"text-align: right;\">0.0420945</td><td style = \"text-align: right;\">0.0183457</td><td style = \"text-align: right;\">14472</td><td style = \"text-align: left;\">8881.0</td></tr><tr><td class = \"rowNumber\" style = \"font-weight: bold; text-align: right;\">11</td><td style = \"text-align: right;\">62</td><td style = \"text-align: left;\">Georgia</td><td style = \"text-align: left;\">2020-04-13</td><td style = \"text-align: right;\">0.257842</td><td style = \"text-align: right;\">0.0188634</td><td style = \"text-align: right;\">0.0141226</td><td style = \"text-align: right;\">0.0324736</td><td style = \"text-align: right;\">0.358316</td><td style = \"text-align: right;\">0.0106025</td><td style = \"text-align: right;\">4603</td><td style = \"text-align: left;\">3198.0</td></tr><tr><td class = \"rowNumber\" style = \"font-weight: bold; text-align: right;\">12</td><td style = \"text-align: right;\">63</td><td style = \"text-align: left;\">Hawaii</td><td style = \"text-align: left;\">2020-04-13</td><td style = \"text-align: right;\">0.0215011</td><td style = \"text-align: right;\">0.00033837</td><td style = \"text-align: right;\">0.00027334</td><td style = \"text-align: right;\">0.0016182</td><td style = \"text-align: right;\">0.183778</td><td style = \"text-align: right;\">0.0270564</td><td style = \"text-align: right;\">429</td><td style = \"text-align: left;\">1921.0</td></tr><tr><td class = \"rowNumber\" style = \"font-weight: bold; text-align: right;\">13</td><td style = \"text-align: right;\">64</td><td style = \"text-align: left;\">Idaho</td><td style = \"text-align: left;\">2020-04-13</td><td style = \"text-align: right;\">0.0310352</td><td style = \"text-align: right;\">0.0016716</td><td style = \"text-align: right;\">0.000820021</td><td style = \"text-align: right;\">0.0186835</td><td style = \"text-align: right;\">0.194045</td><td style = \"text-align: right;\">0.018344</td><td style = \"text-align: right;\">838</td><td style = \"text-align: left;\">1921.0</td></tr><tr><td style = \"text-align: right;\">&vellip;</td><td style = \"text-align: right;\">&vellip;</td><td style = \"text-align: right;\">&vellip;</td><td style = \"text-align: right;\">&vellip;</td><td style = \"text-align: right;\">&vellip;</td><td style = \"text-align: right;\">&vellip;</td><td style = \"text-align: right;\">&vellip;</td><td style = \"text-align: right;\">&vellip;</td><td style = \"text-align: right;\">&vellip;</td><td style = \"text-align: right;\">&vellip;</td><td style = \"text-align: right;\">&vellip;</td><td style = \"text-align: right;\">&vellip;</td></tr><tr><td class = \"rowNumber\" style = \"font-weight: bold; text-align: right;\">7113</td><td style = \"text-align: right;\">7164</td><td style = \"text-align: left;\">Rhode Island</td><td style = \"text-align: left;\">2020-08-27</td><td style = \"text-align: right;\">0.0123442</td><td style = \"text-align: right;\">0.0308278</td><td style = \"text-align: right;\">0.0317075</td><td style = \"text-align: right;\">0.647071</td><td style = \"text-align: right;\">0.49692</td><td style = \"text-align: right;\">1.0</td><td style = \"text-align: right;\">5115</td><td style = \"text-align: left;\">6518.0</td></tr><tr><td class = \"rowNumber\" style = \"font-weight: bold; text-align: right;\">7114</td><td style = \"text-align: right;\">7165</td><td style = \"text-align: left;\">South Carolina</td><td style = \"text-align: left;\">2020-08-27</td><td style = \"text-align: right;\">0.117379</td><td style = \"text-align: right;\">0.165321</td><td style = \"text-align: right;\">0.0798153</td><td style = \"text-align: right;\">0.707618</td><td style = \"text-align: right;\">0.235113</td><td style = \"text-align: right;\">0.380254</td><td style = \"text-align: right;\">9823</td><td style = \"text-align: left;\">14645.0</td></tr><tr><td class = \"rowNumber\" style = \"font-weight: bold; text-align: right;\">7115</td><td style = \"text-align: right;\">7166</td><td style = \"text-align: left;\">South Dakota</td><td style = \"text-align: left;\">2020-08-27</td><td style = \"text-align: right;\">0.00785699</td><td style = \"text-align: right;\">0.0172424</td><td style = \"text-align: right;\">0.00492012</td><td style = \"text-align: right;\">0.434464</td><td style = \"text-align: right;\">0.13655</td><td style = \"text-align: right;\">0.340442</td><td style = \"text-align: right;\">1421</td><td style = \"text-align: left;\">7813.0</td></tr><tr><td class = \"rowNumber\" style = \"font-weight: bold; text-align: right;\">7116</td><td style = \"text-align: right;\">7167</td><td style = \"text-align: left;\">Tennessee</td><td style = \"text-align: left;\">2020-08-27</td><td style = \"text-align: right;\">0.160541</td><td style = \"text-align: right;\">0.215326</td><td style = \"text-align: right;\">0.0508109</td><td style = \"text-align: right;\">0.694299</td><td style = \"text-align: right;\">0.11499</td><td style = \"text-align: right;\">0.66569</td><td style = \"text-align: right;\">18979</td><td style = \"text-align: left;\">15825.0</td></tr><tr><td class = \"rowNumber\" style = \"font-weight: bold; text-align: right;\">7117</td><td style = \"text-align: right;\">7168</td><td style = \"text-align: left;\">Texas</td><td style = \"text-align: left;\">2020-08-27</td><td style = \"text-align: right;\">0.729889</td><td style = \"text-align: right;\">0.888263</td><td style = \"text-align: right;\">0.375539</td><td style = \"text-align: right;\">0.673346</td><td style = \"text-align: right;\">0.206366</td><td style = \"text-align: right;\">0.352489</td><td style = \"text-align: right;\">43155</td><td style = \"text-align: left;\">74178.0</td></tr><tr><td class = \"rowNumber\" style = \"font-weight: bold; text-align: right;\">7118</td><td style = \"text-align: right;\">7169</td><td style = \"text-align: left;\">Utah</td><td style = \"text-align: left;\">2020-08-27</td><td style = \"text-align: right;\">0.0674792</td><td style = \"text-align: right;\">0.0727163</td><td style = \"text-align: right;\">0.0122396</td><td style = \"text-align: right;\">0.49848</td><td style = \"text-align: right;\">0.0821355</td><td style = \"text-align: right;\">0.427754</td><td style = \"text-align: right;\">6956</td><td style = \"text-align: left;\">8360.0</td></tr><tr><td class = \"rowNumber\" style = \"font-weight: bold; text-align: right;\">7119</td><td style = \"text-align: right;\">7170</td><td style = \"text-align: left;\">Vermont</td><td style = \"text-align: left;\">2020-08-27</td><td style = \"text-align: right;\">0.00116173</td><td style = \"text-align: right;\">0.00190297</td><td style = \"text-align: right;\">0.00176153</td><td style = \"text-align: right;\">0.0720744</td><td style = \"text-align: right;\">0.37577</td><td style = \"text-align: right;\">0.42682</td><td style = \"text-align: right;\">3552</td><td style = \"text-align: left;\">4762.0</td></tr><tr><td class = \"rowNumber\" style = \"font-weight: bold; text-align: right;\">7120</td><td style = \"text-align: right;\">7171</td><td style = \"text-align: left;\">Virginia</td><td style = \"text-align: left;\">2020-08-27</td><td style = \"text-align: right;\">0.204368</td><td style = \"text-align: right;\">0.168171</td><td style = \"text-align: right;\">0.0767479</td><td style = \"text-align: right;\">0.430374</td><td style = \"text-align: right;\">0.222793</td><td style = \"text-align: right;\">0.376656</td><td style = \"text-align: right;\">17503</td><td style = \"text-align: left;\">21396.0</td></tr><tr><td class = \"rowNumber\" style = \"font-weight: bold; text-align: right;\">7121</td><td style = \"text-align: right;\">7172</td><td style = \"text-align: left;\">Washington</td><td style = \"text-align: left;\">2020-08-27</td><td style = \"text-align: right;\">0.180722</td><td style = \"text-align: right;\">0.10474</td><td style = \"text-align: right;\">0.0574014</td><td style = \"text-align: right;\">0.297907</td><td style = \"text-align: right;\">0.26694</td><td style = \"text-align: right;\">0.389691</td><td style = \"text-align: right;\">14511</td><td style = \"text-align: left;\">19359.0</td></tr><tr><td class = \"rowNumber\" style = \"font-weight: bold; text-align: right;\">7122</td><td style = \"text-align: right;\">7173</td><td style = \"text-align: left;\">West Virginia</td><td style = \"text-align: left;\">2020-08-27</td><td style = \"text-align: right;\">0.0311657</td><td style = \"text-align: right;\">0.0135391</td><td style = \"text-align: right;\">0.00601348</td><td style = \"text-align: right;\">0.163409</td><td style = \"text-align: right;\">0.211499</td><td style = \"text-align: right;\">0.492857</td><td style = \"text-align: right;\">5681</td><td style = \"text-align: left;\">5472.0</td></tr><tr><td class = \"rowNumber\" style = \"font-weight: bold; text-align: right;\">7123</td><td style = \"text-align: right;\">7174</td><td style = \"text-align: left;\">Wisconsin</td><td style = \"text-align: left;\">2020-08-27</td><td style = \"text-align: right;\">0.134683</td><td style = \"text-align: right;\">0.105369</td><td style = \"text-align: right;\">0.0337423</td><td style = \"text-align: right;\">0.39506</td><td style = \"text-align: right;\">0.156057</td><td style = \"text-align: right;\">0.449505</td><td style = \"text-align: right;\">28825</td><td style = \"text-align: left;\">21167.0</td></tr><tr><td class = \"rowNumber\" style = \"font-weight: bold; text-align: right;\">7124</td><td style = \"text-align: right;\">7175</td><td style = \"text-align: left;\">Wyoming</td><td style = \"text-align: left;\">2020-08-27</td><td style = \"text-align: right;\">0.0</td><td style = \"text-align: right;\">0.00500758</td><td style = \"text-align: right;\">0.00112373</td><td style = \"text-align: right;\">0.198059</td><td style = \"text-align: right;\">0.101643</td><td style = \"text-align: right;\">0.274242</td><td style = \"text-align: right;\">502</td><td style = \"text-align: left;\">6299.0</td></tr></tbody></table></div>"
      ],
      "text/latex": [
       "\\begin{tabular}{r|ccccccc}\n",
       "\t& Column1 & State & Date & population & confirmed & deaths & \\\\\n",
       "\t\\hline\n",
       "\t& Int64 & String31 & Date & Float64 & Float64 & Float64 & \\\\\n",
       "\t\\hline\n",
       "\t1 & 52 & Alabama & 2020-04-13 & 0.111072 & 0.00500903 & 0.00300674 & $\\dots$ \\\\\n",
       "\t2 & 53 & Alaska & 2020-04-13 & 0.00392428 & 1.01222e-5 & 0.000242969 & $\\dots$ \\\\\n",
       "\t3 & 54 & Arizona & 2020-04-13 & 0.172087 & 0.0049671 & 0.00370528 & $\\dots$ \\\\\n",
       "\t4 & 55 & Arkansas & 2020-04-13 & 0.0626465 & 0.00164847 & 0.000880763 & $\\dots$ \\\\\n",
       "\t5 & 56 & California & 2020-04-13 & 1.0 & 0.0342144 & 0.021685 & $\\dots$ \\\\\n",
       "\t6 & 57 & Colorado & 2020-04-13 & 0.133047 & 0.010731 & 0.00929357 & $\\dots$ \\\\\n",
       "\t7 & 58 & Connecticut & 2020-04-13 & 0.0767085 & 0.0189588 & 0.0182834 & $\\dots$ \\\\\n",
       "\t8 & 59 & Delaware & 2020-04-13 & 0.0101456 & 0.00215169 & 0.00124522 & $\\dots$ \\\\\n",
       "\t9 & 60 & District of Columbia & 2020-04-13 & 0.00326172 & 0.00243655 & 0.0015793 & $\\dots$ \\\\\n",
       "\t10 & 61 & Florida & 2020-04-13 & 0.536787 & 0.0300036 & 0.0151552 & $\\dots$ \\\\\n",
       "\t11 & 62 & Georgia & 2020-04-13 & 0.257842 & 0.0188634 & 0.0141226 & $\\dots$ \\\\\n",
       "\t12 & 63 & Hawaii & 2020-04-13 & 0.0215011 & 0.00033837 & 0.00027334 & $\\dots$ \\\\\n",
       "\t13 & 64 & Idaho & 2020-04-13 & 0.0310352 & 0.0016716 & 0.000820021 & $\\dots$ \\\\\n",
       "\t14 & 65 & Illinois & 2020-04-13 & 0.310608 & 0.0314583 & 0.0242362 & $\\dots$ \\\\\n",
       "\t15 & 66 & Indiana & 2020-04-13 & 0.158051 & 0.0116969 & 0.0106299 & $\\dots$ \\\\\n",
       "\t16 & 67 & Iowa & 2020-04-13 & 0.0661721 & 0.00208228 & 0.00124522 & $\\dots$ \\\\\n",
       "\t17 & 68 & Kansas & 2020-04-13 & 0.0599627 & 0.00161955 & 0.00188301 & $\\dots$ \\\\\n",
       "\t18 & 69 & Kentucky & 2020-04-13 & 0.0998862 & 0.00252765 & 0.00343194 & $\\dots$ \\\\\n",
       "\t19 & 70 & Louisiana & 2020-04-13 & 0.104538 & 0.0299992 & 0.0268481 & $\\dots$ \\\\\n",
       "\t20 & 71 & Maine & 2020-04-13 & 0.0196605 & 0.000618899 & 0.000577052 & $\\dots$ \\\\\n",
       "\t21 & 72 & Maryland & 2020-04-13 & 0.140417 & 0.0125313 & 0.00795724 & $\\dots$ \\\\\n",
       "\t22 & 73 & Massachusetts & 2020-04-13 & 0.162168 & 0.0384599 & 0.0256332 & $\\dots$ \\\\\n",
       "\t23 & 74 & Michigan & 2020-04-13 & 0.241646 & 0.0366784 & 0.0486546 & $\\dots$ \\\\\n",
       "\t24 & 75 & Minnesota & 2020-04-13 & 0.129988 & 0.00195358 & 0.00212598 & $\\dots$ \\\\\n",
       "\t25 & 76 & Mississippi & 2020-04-13 & 0.0615766 & 0.00386378 & 0.00297637 & $\\dots$ \\\\\n",
       "\t26 & 77 & Missouri & 2020-04-13 & 0.142774 & 0.00613838 & 0.00373565 & $\\dots$ \\\\\n",
       "\t27 & 78 & Montana & 2020-04-13 & 0.0125861 & 0.000179307 & 0.000212598 & $\\dots$ \\\\\n",
       "\t28 & 79 & Nebraska & 2020-04-13 & 0.0348196 & 0.000786638 & 0.000516309 & $\\dots$ \\\\\n",
       "\t29 & 80 & Nevada & 2020-04-13 & 0.064248 & 0.00393319 & 0.00346231 & $\\dots$ \\\\\n",
       "\t30 & 81 & New Hampshire & 2020-04-13 & 0.0200586 & 0.00103391 & 0.000698536 & $\\dots$ \\\\\n",
       "\t$\\dots$ & $\\dots$ & $\\dots$ & $\\dots$ & $\\dots$ & $\\dots$ & $\\dots$ &  \\\\\n",
       "\\end{tabular}\n"
      ],
      "text/plain": [
       "\u001b[1m7124×11 DataFrame\u001b[0m\n",
       "\u001b[1m  Row \u001b[0m│\u001b[1m Column1 \u001b[0m\u001b[1m State                \u001b[0m\u001b[1m Date       \u001b[0m\u001b[1m population \u001b[0m\u001b[1m confirmed  \u001b[0m\u001b[1m dea\u001b[0m ⋯\n",
       "      │\u001b[90m Int64   \u001b[0m\u001b[90m String31             \u001b[0m\u001b[90m Date       \u001b[0m\u001b[90m Float64    \u001b[0m\u001b[90m Float64    \u001b[0m\u001b[90m Flo\u001b[0m ⋯\n",
       "──────┼─────────────────────────────────────────────────────────────────────────\n",
       "    1 │      52  Alabama               2020-04-13  0.111072    0.00500903  0.0 ⋯\n",
       "    2 │      53  Alaska                2020-04-13  0.00392428  1.01222e-5  0.0\n",
       "    3 │      54  Arizona               2020-04-13  0.172087    0.0049671   0.0\n",
       "    4 │      55  Arkansas              2020-04-13  0.0626465   0.00164847  0.0\n",
       "    5 │      56  California            2020-04-13  1.0         0.0342144   0.0 ⋯\n",
       "    6 │      57  Colorado              2020-04-13  0.133047    0.010731    0.0\n",
       "    7 │      58  Connecticut           2020-04-13  0.0767085   0.0189588   0.0\n",
       "    8 │      59  Delaware              2020-04-13  0.0101456   0.00215169  0.0\n",
       "    9 │      60  District of Columbia  2020-04-13  0.00326172  0.00243655  0.0 ⋯\n",
       "   10 │      61  Florida               2020-04-13  0.536787    0.0300036   0.0\n",
       "   11 │      62  Georgia               2020-04-13  0.257842    0.0188634   0.0\n",
       "  ⋮   │    ⋮              ⋮                ⋮           ⋮           ⋮           ⋱\n",
       " 7115 │    7166  South Dakota          2020-08-27  0.00785699  0.0172424   0.0\n",
       " 7116 │    7167  Tennessee             2020-08-27  0.160541    0.215326    0.0 ⋯\n",
       " 7117 │    7168  Texas                 2020-08-27  0.729889    0.888263    0.3\n",
       " 7118 │    7169  Utah                  2020-08-27  0.0674792   0.0727163   0.0\n",
       " 7119 │    7170  Vermont               2020-08-27  0.00116173  0.00190297  0.0\n",
       " 7120 │    7171  Virginia              2020-08-27  0.204368    0.168171    0.0 ⋯\n",
       " 7121 │    7172  Washington            2020-08-27  0.180722    0.10474     0.0\n",
       " 7122 │    7173  West Virginia         2020-08-27  0.0311657   0.0135391   0.0\n",
       " 7123 │    7174  Wisconsin             2020-08-27  0.134683    0.105369    0.0\n",
       " 7124 │    7175  Wyoming               2020-08-27  0.0         0.00500758  0.0 ⋯\n",
       "\u001b[36m                                                 6 columns and 7103 rows omitted\u001b[0m"
      ]
     },
     "execution_count": 164,
     "metadata": {},
     "output_type": "execute_result"
    }
   ],
   "source": [
    "copy = df_no_missing[:, 1:10]\n",
    "copy[:, \"Pres\"] = new_pres\n",
    "copy"
   ]
  }
 ],
 "metadata": {
  "kernelspec": {
   "display_name": "Julia 1.9.3",
   "language": "julia",
   "name": "julia-1.9"
  },
  "language_info": {
   "file_extension": ".jl",
   "mimetype": "application/julia",
   "name": "julia",
   "version": "1.9.3"
  }
 },
 "nbformat": 4,
 "nbformat_minor": 2
}
