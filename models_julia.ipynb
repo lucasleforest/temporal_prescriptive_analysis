{
 "cells": [
  {
   "cell_type": "markdown",
   "metadata": {},
   "source": [
    "# Model with Julia"
   ]
  },
  {
   "cell_type": "code",
   "execution_count": 6,
   "metadata": {},
   "outputs": [],
   "source": [
    "using CSV, DataFrames, Statistics, Random, ParallelKMeans, Gurobi, JuMP"
   ]
  },
  {
   "cell_type": "code",
   "execution_count": 42,
   "metadata": {},
   "outputs": [
    {
     "data": {
      "text/html": [
       "<div><div style = \"float: left;\"><span>7384×15 DataFrame</span></div><div style = \"float: right;\"><span style = \"font-style: italic;\">7359 rows omitted</span></div><div style = \"clear: both;\"></div></div><div class = \"data-frame\" style = \"overflow-x: scroll;\"><table class = \"data-frame\" style = \"margin-bottom: 6px;\"><thead><tr class = \"header\"><th class = \"rowNumber\" style = \"font-weight: bold; text-align: right;\">Row</th><th style = \"text-align: left;\">Column1</th><th style = \"text-align: left;\">State</th><th style = \"text-align: left;\">Date</th><th style = \"text-align: left;\">population</th><th style = \"text-align: left;\">confirmed</th><th style = \"text-align: left;\">deaths</th><th style = \"text-align: left;\">recovered</th><th style = \"text-align: left;\">people_hospitalized</th><th style = \"text-align: left;\">hospitalization_rate</th><th style = \"text-align: left;\">incident_rate</th><th style = \"text-align: left;\">mortality_rate</th><th style = \"text-align: left;\">testing_rate</th><th style = \"text-align: left;\">TestsReported</th><th style = \"text-align: left;\">Neighbors</th><th style = \"text-align: left;\">Value</th></tr><tr class = \"subheader headerLastRow\"><th class = \"rowNumber\" style = \"font-weight: bold; text-align: right;\"></th><th title = \"Int64\" style = \"text-align: left;\">Int64</th><th title = \"String31\" style = \"text-align: left;\">String31</th><th title = \"Dates.Date\" style = \"text-align: left;\">Date</th><th title = \"Float64\" style = \"text-align: left;\">Float64</th><th title = \"Float64\" style = \"text-align: left;\">Float64</th><th title = \"Float64\" style = \"text-align: left;\">Float64</th><th title = \"Float64\" style = \"text-align: left;\">Float64</th><th title = \"Float64\" style = \"text-align: left;\">Float64</th><th title = \"Float64\" style = \"text-align: left;\">Float64</th><th title = \"Float64\" style = \"text-align: left;\">Float64</th><th title = \"Float64\" style = \"text-align: left;\">Float64</th><th title = \"Float64\" style = \"text-align: left;\">Float64</th><th title = \"Int64\" style = \"text-align: left;\">Int64</th><th title = \"Union{Missing, String31}\" style = \"text-align: left;\">String31?</th><th title = \"Union{Missing, String}\" style = \"text-align: left;\">String?</th></tr></thead><tbody><tr><td class = \"rowNumber\" style = \"font-weight: bold; text-align: right;\">1</td><td style = \"text-align: right;\">0</td><td style = \"text-align: left;\">Alabama</td><td style = \"text-align: left;\">2020-04-12</td><td style = \"text-align: right;\">0.111072</td><td style = \"text-align: right;\">0.00462367</td><td style = \"text-align: right;\">0.00282186</td><td style = \"text-align: right;\">0.0</td><td style = \"text-align: right;\">0.00485583</td><td style = \"text-align: right;\">0.318442</td><td style = \"text-align: right;\">0.014383</td><td style = \"text-align: right;\">0.267967</td><td style = \"text-align: right;\">0.00795396</td><td style = \"text-align: right;\">2165</td><td style = \"font-style: italic; text-align: left;\">missing</td><td style = \"font-style: italic; text-align: left;\">missing</td></tr><tr><td class = \"rowNumber\" style = \"font-weight: bold; text-align: right;\">2</td><td style = \"text-align: right;\">1</td><td style = \"text-align: left;\">Alaska</td><td style = \"text-align: left;\">2020-04-12</td><td style = \"text-align: right;\">0.00392428</td><td style = \"text-align: right;\">2.80818e-6</td><td style = \"text-align: right;\">0.000242741</td><td style = \"text-align: right;\">0.00013005</td><td style = \"text-align: right;\">0.000344464</td><td style = \"text-align: right;\">0.296104</td><td style = \"text-align: right;\">0.00472572</td><td style = \"text-align: right;\">0.301848</td><td style = \"text-align: right;\">0.025844</td><td style = \"text-align: right;\">262</td><td style = \"font-style: italic; text-align: left;\">missing</td><td style = \"font-style: italic; text-align: left;\">missing</td></tr><tr><td class = \"rowNumber\" style = \"font-weight: bold; text-align: right;\">3</td><td style = \"text-align: right;\">2</td><td style = \"text-align: left;\">Arizona</td><td style = \"text-align: left;\">2020-04-12</td><td style = \"text-align: right;\">0.172087</td><td style = \"text-align: right;\">0.00459418</td><td style = \"text-align: right;\">0.0034894</td><td style = \"text-align: right;\">0.0</td><td style = \"text-align: right;\">0.0</td><td style = \"text-align: right;\">0.0</td><td style = \"text-align: right;\">0.00572661</td><td style = \"text-align: right;\">0.333676</td><td style = \"text-align: right;\">0.0103453</td><td style = \"text-align: right;\">1119</td><td style = \"font-style: italic; text-align: left;\">missing</td><td style = \"font-style: italic; text-align: left;\">missing</td></tr><tr><td class = \"rowNumber\" style = \"font-weight: bold; text-align: right;\">4</td><td style = \"text-align: right;\">3</td><td style = \"text-align: left;\">Arkansas</td><td style = \"text-align: left;\">2020-04-12</td><td style = \"text-align: right;\">0.0626465</td><td style = \"text-align: right;\">0.00141813</td><td style = \"text-align: right;\">0.000819249</td><td style = \"text-align: right;\">0.000723154</td><td style = \"text-align: right;\">0.00144452</td><td style = \"text-align: right;\">0.263896</td><td style = \"text-align: right;\">0.00597367</td><td style = \"text-align: right;\">0.216632</td><td style = \"text-align: right;\">0.0140518</td><td style = \"text-align: right;\">625</td><td style = \"font-style: italic; text-align: left;\">missing</td><td style = \"font-style: italic; text-align: left;\">missing</td></tr><tr><td class = \"rowNumber\" style = \"font-weight: bold; text-align: right;\">5</td><td style = \"text-align: right;\">4</td><td style = \"text-align: left;\">California</td><td style = \"text-align: left;\">2020-04-12</td><td style = \"text-align: right;\">1.0</td><td style = \"text-align: right;\">0.0316271</td><td style = \"text-align: right;\">0.0194192</td><td style = \"text-align: right;\">0.0</td><td style = \"text-align: right;\">0.0581588</td><td style = \"text-align: right;\">0.596364</td><td style = \"text-align: right;\">0.00872928</td><td style = \"text-align: right;\">0.288501</td><td style = \"text-align: right;\">0.00846209</td><td style = \"text-align: right;\">10816</td><td style = \"font-style: italic; text-align: left;\">missing</td><td style = \"font-style: italic; text-align: left;\">missing</td></tr><tr><td class = \"rowNumber\" style = \"font-weight: bold; text-align: right;\">6</td><td style = \"text-align: right;\">5</td><td style = \"text-align: left;\">Colorado</td><td style = \"text-align: left;\">2020-04-12</td><td style = \"text-align: right;\">0.133047</td><td style = \"text-align: right;\">0.00988058</td><td style = \"text-align: right;\">0.008769</td><td style = \"text-align: right;\">0.0</td><td style = \"text-align: right;\">0.0152897</td><td style = \"text-align: right;\">0.489091</td><td style = \"text-align: right;\">0.0311543</td><td style = \"text-align: right;\">0.406571</td><td style = \"text-align: right;\">0.0110912</td><td style = \"text-align: right;\">10</td><td style = \"font-style: italic; text-align: left;\">missing</td><td style = \"font-style: italic; text-align: left;\">missing</td></tr><tr><td class = \"rowNumber\" style = \"font-weight: bold; text-align: right;\">7</td><td style = \"text-align: right;\">6</td><td style = \"text-align: left;\">Connecticut</td><td style = \"text-align: left;\">2020-04-12</td><td style = \"text-align: right;\">0.0767085</td><td style = \"text-align: right;\">0.0165191</td><td style = \"text-align: right;\">0.0168098</td><td style = \"text-align: right;\">0.0</td><td style = \"text-align: right;\">0.0183788</td><td style = \"text-align: right;\">0.356883</td><td style = \"text-align: right;\">0.097232</td><td style = \"text-align: right;\">0.472279</td><td style = \"text-align: right;\">0.0220298</td><td style = \"text-align: right;\">2703</td><td style = \"font-style: italic; text-align: left;\">missing</td><td style = \"font-style: italic; text-align: left;\">missing</td></tr><tr><td class = \"rowNumber\" style = \"font-weight: bold; text-align: right;\">8</td><td style = \"text-align: right;\">7</td><td style = \"text-align: left;\">Delaware</td><td style = \"text-align: left;\">2020-04-12</td><td style = \"text-align: right;\">0.0101456</td><td style = \"text-align: right;\">0.00190254</td><td style = \"text-align: right;\">0.00106199</td><td style = \"text-align: right;\">0.000376355</td><td style = \"text-align: right;\">0.00211123</td><td style = \"text-align: right;\">0.303636</td><td style = \"text-align: right;\">0.0431713</td><td style = \"text-align: right;\">0.220739</td><td style = \"text-align: right;\">0.0217074</td><td style = \"text-align: right;\">496</td><td style = \"font-style: italic; text-align: left;\">missing</td><td style = \"font-style: italic; text-align: left;\">missing</td></tr><tr><td class = \"rowNumber\" style = \"font-weight: bold; text-align: right;\">9</td><td style = \"text-align: right;\">8</td><td style = \"text-align: left;\">District of Columbia</td><td style = \"text-align: left;\">2020-04-12</td><td style = \"text-align: right;\">0.00326172</td><td style = \"text-align: right;\">0.00225356</td><td style = \"text-align: right;\">0.00151713</td><td style = \"text-align: right;\">0.00097143</td><td style = \"text-align: right;\">0.0</td><td style = \"text-align: right;\">0.0</td><td style = \"text-align: right;\">0.074465</td><td style = \"text-align: right;\">0.274127</td><td style = \"text-align: right;\">0.0291394</td><td style = \"text-align: right;\">547</td><td style = \"font-style: italic; text-align: left;\">missing</td><td style = \"font-style: italic; text-align: left;\">missing</td></tr><tr><td class = \"rowNumber\" style = \"font-weight: bold; text-align: right;\">10</td><td style = \"text-align: right;\">9</td><td style = \"text-align: left;\">Florida</td><td style = \"text-align: left;\">2020-04-12</td><td style = \"text-align: right;\">0.536787</td><td style = \"text-align: right;\">0.0275553</td><td style = \"text-align: right;\">0.0139879</td><td style = \"text-align: right;\">0.0</td><td style = \"text-align: right;\">0.0308017</td><td style = \"text-align: right;\">0.361818</td><td style = \"text-align: right;\">0.0199925</td><td style = \"text-align: right;\">0.238193</td><td style = \"text-align: right;\">0.0160538</td><td style = \"text-align: right;\">4518</td><td style = \"font-style: italic; text-align: left;\">missing</td><td style = \"font-style: italic; text-align: left;\">missing</td></tr><tr><td class = \"rowNumber\" style = \"font-weight: bold; text-align: right;\">11</td><td style = \"text-align: right;\">10</td><td style = \"text-align: left;\">Georgia</td><td style = \"text-align: left;\">2020-04-12</td><td style = \"text-align: right;\">0.257842</td><td style = \"text-align: right;\">0.0171046</td><td style = \"text-align: right;\">0.0131383</td><td style = \"text-align: right;\">0.0</td><td style = \"text-align: right;\">0.0278349</td><td style = \"text-align: right;\">0.522597</td><td style = \"text-align: right;\">0.0292127</td><td style = \"text-align: right;\">0.35729</td><td style = \"text-align: right;\">0.00950627</td><td style = \"text-align: right;\">1131</td><td style = \"font-style: italic; text-align: left;\">missing</td><td style = \"font-style: italic; text-align: left;\">missing</td></tr><tr><td class = \"rowNumber\" style = \"font-weight: bold; text-align: right;\">12</td><td style = \"text-align: right;\">11</td><td style = \"text-align: left;\">Hawaii</td><td style = \"text-align: left;\">2020-04-12</td><td style = \"text-align: right;\">0.0215011</td><td style = \"text-align: right;\">0.000321537</td><td style = \"text-align: right;\">0.000273083</td><td style = \"text-align: right;\">0.000591134</td><td style = \"text-align: right;\">0.000488916</td><td style = \"text-align: right;\">0.229091</td><td style = \"text-align: right;\">0.00147916</td><td style = \"text-align: right;\">0.184805</td><td style = \"text-align: right;\">0.024315</td><td style = \"text-align: right;\">776</td><td style = \"font-style: italic; text-align: left;\">missing</td><td style = \"font-style: italic; text-align: left;\">missing</td></tr><tr><td class = \"rowNumber\" style = \"font-weight: bold; text-align: right;\">13</td><td style = \"text-align: right;\">12</td><td style = \"text-align: left;\">Idaho</td><td style = \"text-align: left;\">2020-04-12</td><td style = \"text-align: right;\">0.0310352</td><td style = \"text-align: right;\">0.00159645</td><td style = \"text-align: right;\">0.000819249</td><td style = \"text-align: right;\">0.0</td><td style = \"text-align: right;\">0.00145564</td><td style = \"text-align: right;\">0.241818</td><td style = \"text-align: right;\">0.0179843</td><td style = \"text-align: right;\">0.197125</td><td style = \"text-align: right;\">0.0166141</td><td style = \"text-align: right;\">913</td><td style = \"font-style: italic; text-align: left;\">missing</td><td style = \"font-style: italic; text-align: left;\">missing</td></tr><tr><td style = \"text-align: right;\">&vellip;</td><td style = \"text-align: right;\">&vellip;</td><td style = \"text-align: right;\">&vellip;</td><td style = \"text-align: right;\">&vellip;</td><td style = \"text-align: right;\">&vellip;</td><td style = \"text-align: right;\">&vellip;</td><td style = \"text-align: right;\">&vellip;</td><td style = \"text-align: right;\">&vellip;</td><td style = \"text-align: right;\">&vellip;</td><td style = \"text-align: right;\">&vellip;</td><td style = \"text-align: right;\">&vellip;</td><td style = \"text-align: right;\">&vellip;</td><td style = \"text-align: right;\">&vellip;</td><td style = \"text-align: right;\">&vellip;</td><td style = \"text-align: right;\">&vellip;</td><td style = \"text-align: right;\">&vellip;</td></tr><tr><td class = \"rowNumber\" style = \"font-weight: bold; text-align: right;\">7373</td><td style = \"text-align: right;\">7372</td><td style = \"text-align: left;\">Rhode Island</td><td style = \"text-align: left;\">2020-08-31</td><td style = \"text-align: right;\">0.0123442</td><td style = \"text-align: right;\">0.0304393</td><td style = \"text-align: right;\">0.031799</td><td style = \"text-align: right;\">0.0041537</td><td style = \"text-align: right;\">0.0</td><td style = \"text-align: right;\">0.0</td><td style = \"text-align: right;\">0.646565</td><td style = \"text-align: right;\">0.489733</td><td style = \"text-align: right;\">1.0</td><td style = \"text-align: right;\">3692</td><td style = \"font-style: italic; text-align: left;\">[7216 7268 7236 7184 7132 7080]</td><td style = \"font-style: italic; text-align: left;\">[6666, 4025, 3967, 3902, 5337, 5237]</td></tr><tr><td class = \"rowNumber\" style = \"font-weight: bold; text-align: right;\">7374</td><td style = \"text-align: right;\">7373</td><td style = \"text-align: left;\">South Carolina</td><td style = \"text-align: left;\">2020-08-31</td><td style = \"text-align: right;\">0.117379</td><td style = \"text-align: right;\">0.166696</td><td style = \"text-align: right;\">0.0825318</td><td style = \"text-align: right;\">0.101342</td><td style = \"text-align: right;\">0.0</td><td style = \"text-align: right;\">0.0</td><td style = \"text-align: right;\">0.722326</td><td style = \"text-align: right;\">0.235113</td><td style = \"text-align: right;\">0.371701</td><td style = \"text-align: right;\">6779</td><td style = \"font-style: italic; text-align: left;\">[7269 7217 7176 7228 7256 7204]</td><td style = \"font-style: italic; text-align: left;\">[6928, 8953, 19703, 11529, 5840, 7064]</td></tr><tr><td class = \"rowNumber\" style = \"font-weight: bold; text-align: right;\">7375</td><td style = \"text-align: right;\">7374</td><td style = \"text-align: left;\">South Dakota</td><td style = \"text-align: left;\">2020-08-31</td><td style = \"text-align: right;\">0.00785699</td><td style = \"text-align: right;\">0.0185887</td><td style = \"text-align: right;\">0.00506721</td><td style = \"text-align: right;\">0.0209104</td><td style = \"text-align: right;\">0.0</td><td style = \"text-align: right;\">0.0</td><td style = \"text-align: right;\">0.473982</td><td style = \"text-align: right;\">0.12731</td><td style = \"text-align: right;\">0.33369</td><td style = \"text-align: right;\">1047</td><td style = \"font-style: italic; text-align: left;\">[7270 7218 7244 7192 7203 5696]</td><td style = \"font-style: italic; text-align: left;\">[1550, 1478, 6373, 8942, 4776, 9404]</td></tr><tr><td class = \"rowNumber\" style = \"font-weight: bold; text-align: right;\">7376</td><td style = \"text-align: right;\">7375</td><td style = \"text-align: left;\">Tennessee</td><td style = \"text-align: left;\">2020-08-31</td><td style = \"text-align: right;\">0.160541</td><td style = \"text-align: right;\">0.217161</td><td style = \"text-align: right;\">0.0532209</td><td style = \"text-align: right;\">0.230274</td><td style = \"text-align: right;\">0.0</td><td style = \"text-align: right;\">0.0</td><td style = \"text-align: right;\">0.708893</td><td style = \"text-align: right;\">0.116016</td><td style = \"text-align: right;\">0.650587</td><td style = \"text-align: right;\">12850</td><td style = \"font-style: italic; text-align: left;\">[7271 7219 7167 7115 7063 7011]</td><td style = \"font-style: italic; text-align: left;\">[13805, 23611, 18979, 25790, 19755, 9736]</td></tr><tr><td class = \"rowNumber\" style = \"font-weight: bold; text-align: right;\">7377</td><td style = \"text-align: right;\">7376</td><td style = \"text-align: left;\">Texas</td><td style = \"text-align: left;\">2020-08-31</td><td style = \"text-align: right;\">0.729889</td><td style = \"text-align: right;\">0.888043</td><td style = \"text-align: right;\">0.387748</td><td style = \"text-align: right;\">1.0</td><td style = \"text-align: right;\">0.0</td><td style = \"text-align: right;\">0.0</td><td style = \"text-align: right;\">0.681489</td><td style = \"text-align: right;\">0.207392</td><td style = \"text-align: right;\">0.344773</td><td style = \"text-align: right;\">41785</td><td style = \"font-style: italic; text-align: left;\">[7272 7220 7168 7116 7064 7012]</td><td style = \"font-style: italic; text-align: left;\">[37618, 46805, 43155, 47055, 45948, 36638]</td></tr><tr><td class = \"rowNumber\" style = \"font-weight: bold; text-align: right;\">7378</td><td style = \"text-align: right;\">7377</td><td style = \"text-align: left;\">Utah</td><td style = \"text-align: left;\">2020-08-31</td><td style = \"text-align: right;\">0.0674792</td><td style = \"text-align: right;\">0.0727838</td><td style = \"text-align: right;\">0.0123494</td><td style = \"text-align: right;\">0.08668</td><td style = \"text-align: right;\">0.0</td><td style = \"text-align: right;\">0.0</td><td style = \"text-align: right;\">0.505114</td><td style = \"text-align: right;\">0.0800821</td><td style = \"text-align: right;\">0.414984</td><td style = \"text-align: right;\">6008</td><td style = \"font-style: italic; text-align: left;\">[7273 7221 7255 7203 7264 7212]</td><td style = \"font-style: italic; text-align: left;\">[7867, 8767, 3861, 4776, 5542, 5829]</td></tr><tr><td class = \"rowNumber\" style = \"font-weight: bold; text-align: right;\">7379</td><td style = \"text-align: right;\">7378</td><td style = \"text-align: left;\">Vermont</td><td style = \"text-align: left;\">2020-08-31</td><td style = \"text-align: right;\">0.00116173</td><td style = \"text-align: right;\">0.00190114</td><td style = \"text-align: right;\">0.00175987</td><td style = \"text-align: right;\">0.00280789</td><td style = \"text-align: right;\">0.0</td><td style = \"text-align: right;\">0.0</td><td style = \"text-align: right;\">0.0727482</td><td style = \"text-align: right;\">0.36653</td><td style = \"text-align: right;\">0.438619</td><td style = \"text-align: right;\">3701</td><td style = \"font-style: italic; text-align: left;\">[7274 7222 7170 7118 7066 7014]</td><td style = \"font-style: italic; text-align: left;\">[3828, 5060, 3552, 3041, 2409, 1951]</td></tr><tr><td class = \"rowNumber\" style = \"font-weight: bold; text-align: right;\">7380</td><td style = \"text-align: right;\">7379</td><td style = \"text-align: left;\">Virginia</td><td style = \"text-align: left;\">2020-08-31</td><td style = \"text-align: right;\">0.204368</td><td style = \"text-align: right;\">0.168919</td><td style = \"text-align: right;\">0.0782838</td><td style = \"text-align: right;\">0.0297242</td><td style = \"text-align: right;\">0.0</td><td style = \"text-align: right;\">0.0</td><td style = \"text-align: right;\">0.437747</td><td style = \"text-align: right;\">0.219713</td><td style = \"text-align: right;\">0.374638</td><td style = \"text-align: right;\">13976</td><td style = \"font-style: italic; text-align: left;\">[7275 7223 7253 7201 7149 7097]</td><td style = \"font-style: italic; text-align: left;\">[15288, 17703, 15226, 21155, 19461, 21396]</td></tr><tr><td class = \"rowNumber\" style = \"font-weight: bold; text-align: right;\">7381</td><td style = \"text-align: right;\">7380</td><td style = \"text-align: left;\">Washington</td><td style = \"text-align: left;\">2020-08-31</td><td style = \"text-align: right;\">0.180722</td><td style = \"text-align: right;\">0.104415</td><td style = \"text-align: right;\">0.058106</td><td style = \"text-align: right;\">0.0</td><td style = \"text-align: right;\">0.0</td><td style = \"text-align: right;\">0.0</td><td style = \"text-align: right;\">0.300755</td><td style = \"text-align: right;\">0.26386</td><td style = \"text-align: right;\">0.386838</td><td style = \"text-align: right;\">6058</td><td style = \"font-style: italic; text-align: left;\">[7276 7224 7233 7181 7193 7245]</td><td style = \"font-style: italic; text-align: left;\">[9215, 12142, 9761, 9800, 11060, 10442]</td></tr><tr><td class = \"rowNumber\" style = \"font-weight: bold; text-align: right;\">7382</td><td style = \"text-align: right;\">7381</td><td style = \"text-align: left;\">West Virginia</td><td style = \"text-align: left;\">2020-08-31</td><td style = \"text-align: right;\">0.0311657</td><td style = \"text-align: right;\">0.0140114</td><td style = \"text-align: right;\">0.00652365</td><td style = \"text-align: right;\">0.0157971</td><td style = \"text-align: right;\">0.0</td><td style = \"text-align: right;\">0.0</td><td style = \"text-align: right;\">0.17145</td><td style = \"text-align: right;\">0.215606</td><td style = \"text-align: right;\">0.490816</td><td style = \"text-align: right;\">3577</td><td style = \"font-style: italic; text-align: left;\">[7277 7225 7173 7121 7069 7017]</td><td style = \"font-style: italic; text-align: left;\">[4653, 6795, 5681, 4762, 4703, 6641]</td></tr><tr><td class = \"rowNumber\" style = \"font-weight: bold; text-align: right;\">7383</td><td style = \"text-align: right;\">7382</td><td style = \"text-align: left;\">Wisconsin</td><td style = \"text-align: left;\">2020-08-31</td><td style = \"text-align: right;\">0.134683</td><td style = \"text-align: right;\">0.105774</td><td style = \"text-align: right;\">0.0340444</td><td style = \"text-align: right;\">0.132481</td><td style = \"text-align: right;\">0.0</td><td style = \"text-align: right;\">0.0</td><td style = \"text-align: right;\">0.401591</td><td style = \"text-align: right;\">0.151951</td><td style = \"text-align: right;\">0.434106</td><td style = \"text-align: right;\">16571</td><td style = \"font-style: italic; text-align: left;\">[7278 7226 7212 7264 7251 7199]</td><td style = \"font-style: italic; text-align: left;\">[15741, 18947, 5829, 5542, 15800, 19137]</td></tr><tr><td class = \"rowNumber\" style = \"font-weight: bold; text-align: right;\">7384</td><td style = \"text-align: right;\">7383</td><td style = \"text-align: left;\">Wyoming</td><td style = \"text-align: left;\">2020-08-31</td><td style = \"text-align: right;\">0.0</td><td style = \"text-align: right;\">0.00502664</td><td style = \"text-align: right;\">0.00112268</td><td style = \"text-align: right;\">0.00626799</td><td style = \"text-align: right;\">0.0</td><td style = \"text-align: right;\">0.0</td><td style = \"text-align: right;\">0.201014</td><td style = \"text-align: right;\">0.0985626</td><td style = \"text-align: right;\">0.265226</td><td style = \"text-align: right;\">353</td><td style = \"font-style: italic; text-align: left;\">[7227 7279 7239 7187 5915 5967]</td><td style = \"font-style: italic; text-align: left;\">[1107, 1186, 4489, 4912, 1683, 3126]</td></tr></tbody></table></div>"
      ],
      "text/latex": [
       "\\begin{tabular}{r|ccccccc}\n",
       "\t& Column1 & State & Date & population & confirmed & deaths & \\\\\n",
       "\t\\hline\n",
       "\t& Int64 & String31 & Date & Float64 & Float64 & Float64 & \\\\\n",
       "\t\\hline\n",
       "\t1 & 0 & Alabama & 2020-04-12 & 0.111072 & 0.00462367 & 0.00282186 & $\\dots$ \\\\\n",
       "\t2 & 1 & Alaska & 2020-04-12 & 0.00392428 & 2.80818e-6 & 0.000242741 & $\\dots$ \\\\\n",
       "\t3 & 2 & Arizona & 2020-04-12 & 0.172087 & 0.00459418 & 0.0034894 & $\\dots$ \\\\\n",
       "\t4 & 3 & Arkansas & 2020-04-12 & 0.0626465 & 0.00141813 & 0.000819249 & $\\dots$ \\\\\n",
       "\t5 & 4 & California & 2020-04-12 & 1.0 & 0.0316271 & 0.0194192 & $\\dots$ \\\\\n",
       "\t6 & 5 & Colorado & 2020-04-12 & 0.133047 & 0.00988058 & 0.008769 & $\\dots$ \\\\\n",
       "\t7 & 6 & Connecticut & 2020-04-12 & 0.0767085 & 0.0165191 & 0.0168098 & $\\dots$ \\\\\n",
       "\t8 & 7 & Delaware & 2020-04-12 & 0.0101456 & 0.00190254 & 0.00106199 & $\\dots$ \\\\\n",
       "\t9 & 8 & District of Columbia & 2020-04-12 & 0.00326172 & 0.00225356 & 0.00151713 & $\\dots$ \\\\\n",
       "\t10 & 9 & Florida & 2020-04-12 & 0.536787 & 0.0275553 & 0.0139879 & $\\dots$ \\\\\n",
       "\t11 & 10 & Georgia & 2020-04-12 & 0.257842 & 0.0171046 & 0.0131383 & $\\dots$ \\\\\n",
       "\t12 & 11 & Hawaii & 2020-04-12 & 0.0215011 & 0.000321537 & 0.000273083 & $\\dots$ \\\\\n",
       "\t13 & 12 & Idaho & 2020-04-12 & 0.0310352 & 0.00159645 & 0.000819249 & $\\dots$ \\\\\n",
       "\t14 & 13 & Illinois & 2020-04-12 & 0.310608 & 0.028899 & 0.0218466 & $\\dots$ \\\\\n",
       "\t15 & 14 & Indiana & 2020-04-12 & 0.158051 & 0.0107525 & 0.0104075 & $\\dots$ \\\\\n",
       "\t16 & 15 & Iowa & 2020-04-12 & 0.0661721 & 0.00184919 & 0.00124405 & $\\dots$ \\\\\n",
       "\t17 & 16 & Kansas & 2020-04-12 & 0.0599627 & 0.00150799 & 0.00169918 & $\\dots$ \\\\\n",
       "\t18 & 17 & Kentucky & 2020-04-12 & 0.0998862 & 0.00237712 & 0.00294323 & $\\dots$ \\\\\n",
       "\t19 & 18 & Louisiana & 2020-04-12 & 0.104538 & 0.0285381 & 0.0254878 & $\\dots$ \\\\\n",
       "\t20 & 19 & Maine & 2020-04-12 & 0.0196605 & 0.000509685 & 0.000576509 & $\\dots$ \\\\\n",
       "\t21 & 20 & Maryland & 2020-04-12 & 0.140417 & 0.0111695 & 0.00716085 & $\\dots$ \\\\\n",
       "\t22 & 21 & Massachusetts & 2020-04-12 & 0.162168 & 0.0353901 & 0.022939 & $\\dots$ \\\\\n",
       "\t23 & 22 & Michigan & 2020-04-12 & 0.241646 & 0.0336617 & 0.0448767 & $\\dots$ \\\\\n",
       "\t24 & 23 & Minnesota & 2020-04-12 & 0.129988 & 0.00189693 & 0.00212398 & $\\dots$ \\\\\n",
       "\t25 & 24 & Mississippi & 2020-04-12 & 0.0615766 & 0.00352567 & 0.00291289 & $\\dots$ \\\\\n",
       "\t26 & 25 & Missouri & 2020-04-12 & 0.142774 & 0.00561496 & 0.00358042 & $\\dots$ \\\\\n",
       "\t27 & 26 & Montana & 2020-04-12 & 0.0125861 & 0.000164279 & 0.000182055 & $\\dots$ \\\\\n",
       "\t28 & 27 & Nebraska & 2020-04-12 & 0.0348196 & 0.000731531 & 0.000515824 & $\\dots$ \\\\\n",
       "\t29 & 28 & Nevada & 2020-04-12 & 0.064248 & 0.0036029 & 0.00339837 & $\\dots$ \\\\\n",
       "\t30 & 29 & New Hampshire & 2020-04-12 & 0.0200586 & 0.000925295 & 0.000697879 & $\\dots$ \\\\\n",
       "\t$\\dots$ & $\\dots$ & $\\dots$ & $\\dots$ & $\\dots$ & $\\dots$ & $\\dots$ &  \\\\\n",
       "\\end{tabular}\n"
      ],
      "text/plain": [
       "\u001b[1m7384×15 DataFrame\u001b[0m\n",
       "\u001b[1m  Row \u001b[0m│\u001b[1m Column1 \u001b[0m\u001b[1m State                \u001b[0m\u001b[1m Date       \u001b[0m\u001b[1m population \u001b[0m\u001b[1m confirmed   \u001b[0m\u001b[1m de\u001b[0m ⋯\n",
       "      │\u001b[90m Int64   \u001b[0m\u001b[90m String31             \u001b[0m\u001b[90m Date       \u001b[0m\u001b[90m Float64    \u001b[0m\u001b[90m Float64     \u001b[0m\u001b[90m Fl\u001b[0m ⋯\n",
       "──────┼─────────────────────────────────────────────────────────────────────────\n",
       "    1 │       0  Alabama               2020-04-12  0.111072    0.00462367   0. ⋯\n",
       "    2 │       1  Alaska                2020-04-12  0.00392428  2.80818e-6   0.\n",
       "    3 │       2  Arizona               2020-04-12  0.172087    0.00459418   0.\n",
       "    4 │       3  Arkansas              2020-04-12  0.0626465   0.00141813   0.\n",
       "    5 │       4  California            2020-04-12  1.0         0.0316271    0. ⋯\n",
       "    6 │       5  Colorado              2020-04-12  0.133047    0.00988058   0.\n",
       "    7 │       6  Connecticut           2020-04-12  0.0767085   0.0165191    0.\n",
       "    8 │       7  Delaware              2020-04-12  0.0101456   0.00190254   0.\n",
       "    9 │       8  District of Columbia  2020-04-12  0.00326172  0.00225356   0. ⋯\n",
       "   10 │       9  Florida               2020-04-12  0.536787    0.0275553    0.\n",
       "   11 │      10  Georgia               2020-04-12  0.257842    0.0171046    0.\n",
       "  ⋮   │    ⋮              ⋮                ⋮           ⋮            ⋮          ⋱\n",
       " 7375 │    7374  South Dakota          2020-08-31  0.00785699  0.0185887    0.\n",
       " 7376 │    7375  Tennessee             2020-08-31  0.160541    0.217161     0. ⋯\n",
       " 7377 │    7376  Texas                 2020-08-31  0.729889    0.888043     0.\n",
       " 7378 │    7377  Utah                  2020-08-31  0.0674792   0.0727838    0.\n",
       " 7379 │    7378  Vermont               2020-08-31  0.00116173  0.00190114   0.\n",
       " 7380 │    7379  Virginia              2020-08-31  0.204368    0.168919     0. ⋯\n",
       " 7381 │    7380  Washington            2020-08-31  0.180722    0.104415     0.\n",
       " 7382 │    7381  West Virginia         2020-08-31  0.0311657   0.0140114    0.\n",
       " 7383 │    7382  Wisconsin             2020-08-31  0.134683    0.105774     0.\n",
       " 7384 │    7383  Wyoming               2020-08-31  0.0         0.00502664   0. ⋯\n",
       "\u001b[36m                                                10 columns and 7363 rows omitted\u001b[0m"
      ]
     },
     "execution_count": 42,
     "metadata": {},
     "output_type": "execute_result"
    }
   ],
   "source": [
    "df = CSV.read(\"data/pred_prev_t.csv\", DataFrame)\n",
    "df"
   ]
  },
  {
   "cell_type": "code",
   "execution_count": 43,
   "metadata": {},
   "outputs": [],
   "source": [
    "df_no_missing = dropmissing(df);"
   ]
  },
  {
   "cell_type": "code",
   "execution_count": 44,
   "metadata": {},
   "outputs": [
    {
     "name": "stdout",
     "output_type": "stream",
     "text": [
      "Set parameter Username\n",
      "Academic license - for non-commercial use only - expires 2024-08-23\n"
     ]
    },
    {
     "data": {
      "text/plain": [
       "optimisation_cost (generic function with 2 methods)"
      ]
     },
     "execution_count": 44,
     "metadata": {},
     "output_type": "execute_result"
    }
   ],
   "source": [
    "env = Gurobi.Env();\n",
    "function optimisation_cost(y, solver_output=0)\n",
    "    n = length(y)\n",
    "    \n",
    "    # Build model\n",
    "    model = Model(()-> Gurobi.Optimizer(env))\n",
    "    set_optimizer_attribute(model, \"OutputFlag\", solver_output) \n",
    "    \n",
    "    # Variables\n",
    "    @variable(model, z >= 0)\n",
    "    @variable(model, s[i in 1:n])\n",
    "    @variable(model, t[i in 1:n] >= 0)\n",
    "\n",
    "    # Constraint\n",
    "    @constraint(model, [i in 1:n], s[i] >= - y[i])\n",
    "    @constraint(model, [i in 1:n], s[i] >= - z)\n",
    "    @constraint(model, [i in 1:n], t[i] >= 0)\n",
    "    @constraint(model, [i in 1:n], t[i] >= z - y[i])\n",
    "    \n",
    "    # Objective\n",
    "    @objective(model, Min,  sum(2*z + 45*s[i] + 10*t[i] for i in 1:n))\n",
    "    \n",
    "    # Optimize\n",
    "    optimize!(model)\n",
    "    \n",
    "    # Return estimated betas\n",
    "        \n",
    "    return (value.(z))\n",
    "end"
   ]
  },
  {
   "cell_type": "code",
   "execution_count": 45,
   "metadata": {},
   "outputs": [],
   "source": [
    "to_pred = [eval(Meta.parse(x)) for x in df_no_missing[:, \"Value\"]];"
   ]
  },
  {
   "cell_type": "code",
   "execution_count": 46,
   "metadata": {},
   "outputs": [
    {
     "data": {
      "text/plain": [
       "4-element Vector{Int64}:\n",
       " 2165\n",
       "  808\n",
       "  625\n",
       " 3390"
      ]
     },
     "execution_count": 46,
     "metadata": {},
     "output_type": "execute_result"
    }
   ],
   "source": [
    "to_pred[1]"
   ]
  },
  {
   "cell_type": "code",
   "execution_count": 47,
   "metadata": {},
   "outputs": [
    {
     "data": {
      "text/plain": [
       "9.7503605e7"
      ]
     },
     "execution_count": 47,
     "metadata": {},
     "output_type": "execute_result"
    }
   ],
   "source": [
    "total_sum = 0.0\n",
    "for x in to_pred\n",
    "    total_sum += optimisation_cost(x)\n",
    "end\n",
    "total_sum"
   ]
  }
 ],
 "metadata": {
  "kernelspec": {
   "display_name": "Julia 1.9.3",
   "language": "julia",
   "name": "julia-1.9"
  },
  "language_info": {
   "file_extension": ".jl",
   "mimetype": "application/julia",
   "name": "julia",
   "version": "1.9.3"
  }
 },
 "nbformat": 4,
 "nbformat_minor": 2
}
